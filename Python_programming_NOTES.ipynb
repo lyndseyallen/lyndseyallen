{
  "nbformat": 4,
  "nbformat_minor": 0,
  "metadata": {
    "colab": {
      "provenance": [],
      "authorship_tag": "ABX9TyOXhbCPxgZqXgWEcrfV9PcI",
      "include_colab_link": true
    },
    "kernelspec": {
      "name": "python3",
      "display_name": "Python 3"
    },
    "language_info": {
      "name": "python"
    }
  },
  "cells": [
    {
      "cell_type": "markdown",
      "metadata": {
        "id": "view-in-github",
        "colab_type": "text"
      },
      "source": [
        "<a href=\"https://colab.research.google.com/github/lyndseyallen/lyndseyallen/blob/main/Python_programming_NOTES.ipynb\" target=\"_parent\"><img src=\"https://colab.research.google.com/assets/colab-badge.svg\" alt=\"Open In Colab\"/></a>"
      ]
    },
    {
      "cell_type": "code",
      "execution_count": null,
      "metadata": {
        "colab": {
          "base_uri": "https://localhost:8080/"
        },
        "id": "W_ZZrgdk4rL6",
        "outputId": "ab89e502-baaa-4fa3-81de-8bd0b5e68400"
      },
      "outputs": [
        {
          "output_type": "stream",
          "name": "stdout",
          "text": [
            "Hello, Lyndsey!\n"
          ]
        }
      ],
      "source": [
        "my_name = \"Lyndsey\"\n",
        "print (f\"Hello, {my_name}!\")"
      ]
    },
    {
      "cell_type": "markdown",
      "source": [
        "You can do more than just put variable names in the curly brackets in fStrings.\n",
        "You can put any instruction that results in something that could be interpreted as a string e.g numbers\n"
      ],
      "metadata": {
        "id": "_ELeS60j6s18"
      }
    },
    {
      "cell_type": "code",
      "source": [
        "print(f\"The answer is {2+2}\")"
      ],
      "metadata": {
        "colab": {
          "base_uri": "https://localhost:8080/"
        },
        "id": "_rabsmnP4twU",
        "outputId": "81529278-fcc5-4eb0-8171-b7f7ae794e20"
      },
      "execution_count": null,
      "outputs": [
        {
          "output_type": "stream",
          "name": "stdout",
          "text": [
            "The answer is 4\n"
          ]
        }
      ]
    },
    {
      "cell_type": "markdown",
      "source": [
        ".2f here means \"a floating point with a precision of 2 decimal places"
      ],
      "metadata": {
        "id": "l9TXt-uF5zXP"
      }
    },
    {
      "cell_type": "code",
      "source": [
        "my_float = 4.278235468594900127458\n",
        "print(f\"My number rounded to 2 decimal places is {my_float:.2f}\")"
      ],
      "metadata": {
        "colab": {
          "base_uri": "https://localhost:8080/"
        },
        "id": "7P0bkECM5x3l",
        "outputId": "4cfc9dd8-db1c-4295-fc5a-e7d1a762c2fa"
      },
      "execution_count": null,
      "outputs": [
        {
          "output_type": "stream",
          "name": "stdout",
          "text": [
            "My number rounded to 2 decimal places is 4.28\n"
          ]
        }
      ]
    },
    {
      "cell_type": "code",
      "source": [
        "frequency = \"Sometimes\"\n",
        "hsma_master = \"Dan\"\n",
        "the_enemy = \"THE LINE\"\n",
        "\n",
        "print (f\"{frequency} we want to write very long fstrings that need to span\",\n",
        "       f\"multiple lines if we dont want {hsma_master} to tell us off for\",\n",
        "       f\"going over ... ...{the_enemy}\")"
      ],
      "metadata": {
        "colab": {
          "base_uri": "https://localhost:8080/"
        },
        "id": "dz4KBWZK6IJ9",
        "outputId": "e4955a1e-00f4-40e9-fe92-ebc69159470f"
      },
      "execution_count": null,
      "outputs": [
        {
          "output_type": "stream",
          "name": "stdout",
          "text": [
            "Sometimes we want to write very long fstrings that need to span multiple lines if we dont want Dan to tell us off for going over ... ...THE LINE\n"
          ]
        }
      ]
    },
    {
      "cell_type": "markdown",
      "source": [
        "# The Old Method\n",
        "Although the use of fStrings is the preferred"
      ],
      "metadata": {
        "id": "J6RaQopH68ug"
      }
    },
    {
      "cell_type": "markdown",
      "source": [
        "46.17"
      ],
      "metadata": {
        "id": "_ZY_OOaPA3tN"
      }
    },
    {
      "cell_type": "code",
      "source": [
        "my_name = \"Dan\"\n",
        "print (\"Hello \", my_name)"
      ],
      "metadata": {
        "colab": {
          "base_uri": "https://localhost:8080/"
        },
        "id": "wDA_oSTXogbV",
        "outputId": "a64d5194-1397-4c1e-fb6d-3e3a58ab866f"
      },
      "execution_count": null,
      "outputs": [
        {
          "output_type": "stream",
          "name": "stdout",
          "text": [
            "Hello  Dan\n"
          ]
        }
      ]
    },
    {
      "cell_type": "code",
      "source": [
        "my_name = \"Dan\"\n",
        "my_age = 40\n",
        "\n",
        "print(\"Happy birthday \", my_name, \", you are \", my_age, \" today. \", sep=\"\")"
      ],
      "metadata": {
        "colab": {
          "base_uri": "https://localhost:8080/"
        },
        "id": "mmGIrbKIopYs",
        "outputId": "f847f590-51b9-4d6a-c0dc-434d7ef7d351"
      },
      "execution_count": null,
      "outputs": [
        {
          "output_type": "stream",
          "name": "stdout",
          "text": [
            "Happy birthday Dan, you are 40 today. \n"
          ]
        }
      ]
    },
    {
      "cell_type": "markdown",
      "source": [
        "python auto inserts a space when usingfString, dont need to use the sep=\"\" \n",
        "operator"
      ],
      "metadata": {
        "id": "lNli9gano__e"
      }
    },
    {
      "cell_type": "markdown",
      "source": [
        "## User Inputs\n",
        "Sometimes we need to ask the user to input something in order to continue with the program.\n",
        "In Pytghon, getting input from the user is easy.\n",
        "We simply tell Python that we need an input, any message we want to disply to the user, and the name of the variable in which we want to store the input."
      ],
      "metadata": {
        "id": "teZrhwZQpIrE"
      }
    },
    {
      "cell_type": "code",
      "source": [
        "age = input(\"How old are you? : \")\n"
      ],
      "metadata": {
        "id": "eP2vREyvp2E8"
      },
      "execution_count": null,
      "outputs": []
    },
    {
      "cell_type": "markdown",
      "source": [
        "The above will store the user input. But there might be a problem with it if we're storing something like an age."
      ],
      "metadata": {
        "id": "9A7sTGgUp6o_"
      }
    },
    {
      "cell_type": "markdown",
      "source": [
        "# Casting\n",
        "By default, inputs are read in as *strings* - sequences of characters that are treated as text. But for something like age, we probably want to work with it as a number.\n",
        "\n",
        "To do this we need to cast the variable as an *integer*. We do this by specifying the type to which we want to cast, and then wrapping the value we want to translate (or \"cast\") in brackets.\n",
        "\n",
        "We could read in the input and do this separately after:"
      ],
      "metadata": {
        "id": "BcjFaXFUqJRY"
      }
    },
    {
      "cell_type": "code",
      "source": [
        "age = input(\"How old are you? : \")\n",
        "age = int(age)"
      ],
      "metadata": {
        "id": "O5w-7fAeq1kG"
      },
      "execution_count": null,
      "outputs": []
    },
    {
      "cell_type": "markdown",
      "source": [
        "or we could just do it on the same line we take the input:\n"
      ],
      "metadata": {
        "id": "-LsRZXC_q9Y5"
      }
    },
    {
      "cell_type": "code",
      "source": [
        "age = int(input(\"How old are you? : \"))"
      ],
      "metadata": {
        "id": "niRkqaIprAwa"
      },
      "execution_count": null,
      "outputs": []
    },
    {
      "cell_type": "code",
      "source": [
        "user_name = input(\"What is  your name? :\")\n",
        "user_age = int(input(\"What is your name? :\"))\n",
        "print (f\"Happy birthday {user_name}, you are {user_age} today.\")"
      ],
      "metadata": {
        "id": "aZqiLCRssQdq"
      },
      "execution_count": null,
      "outputs": []
    },
    {
      "cell_type": "markdown",
      "source": [
        "# Comments\n",
        "Whenj writing comments,it is important to *comment* ouir code (leave notes explaining what various sections of code are doing) to make it easier for others to follow.\n",
        "There are different ways to comment in Python:"
      ],
      "metadata": {
        "id": "jSXGRvchs9vD"
      }
    },
    {
      "cell_type": "code",
      "source": [
        "#this is a comment, until we start a new line\n",
        "# at which point we need another hashtag\n",
        "\"\"\"This is also a comment, and will continue to be si until the three speech \n",
        "marks close it again\"\"\""
      ],
      "metadata": {
        "id": "WhL0q337tMyF"
      },
      "execution_count": null,
      "outputs": []
    },
    {
      "cell_type": "markdown",
      "source": [
        "# Mathematical Operators\n",
        "Its usually the case we want to manipulate our variable values in some way. When dealing with numbers, we will likely want to apply common mathematical functions to them:"
      ],
      "metadata": {
        "id": "RlqTVaT0tbAI"
      }
    },
    {
      "cell_type": "code",
      "source": [
        "a + b # a plus b\n",
        "a - b # a minus b\n",
        "a * b # a multiplies by b\n",
        "a / b # a divided by b\n",
        "a % b # a modulus b ( return the remainder from a divided by b)\n",
        "a ** b # a to the power of b"
      ],
      "metadata": {
        "id": "6eOxtkBQtmOv"
      },
      "execution_count": null,
      "outputs": []
    },
    {
      "cell_type": "markdown",
      "source": [
        "increment and decrement increase and decrease by 1"
      ],
      "metadata": {
        "id": "SF0mgYnBugKQ"
      }
    },
    {
      "cell_type": "code",
      "source": [
        "a += 1 # this is the shorthand for a = a + 1\n",
        "a -= 1 # this is the shorthand for a = a - 1"
      ],
      "metadata": {
        "id": "e0GE7GT2ul2g"
      },
      "execution_count": null,
      "outputs": []
    },
    {
      "cell_type": "markdown",
      "source": [
        "# Conditional Logic\n",
        "In Python we can apply Conditional Logic using\n",
        "If / ELIF / ELSE statements\n",
        "\n",
        "Want to print a different message in code depending on whether someone is under 60 or aged 60+\n",
        "We might write:\n",
        "must be boolean answer true/false"
      ],
      "metadata": {
        "id": "db9KQV4Ctdc2"
      }
    },
    {
      "cell_type": "code",
      "source": [
        "if age < 60:\n",
        "    print (\"Please go to room A\")\n",
        "else:\n",
        "    print (\"Please go to room B\")"
      ],
      "metadata": {
        "id": "Oh5L-VW6vCT8"
      },
      "execution_count": null,
      "outputs": []
    },
    {
      "cell_type": "markdown",
      "source": [
        "Note the tab indentations - these are important in Python to indicate blocks of code, such as the block within a condition in an if statement.\n",
        "Else statements are optional - dont have to have an alternative to do."
      ],
      "metadata": {
        "id": "LPVpM6f6vMVS"
      }
    },
    {
      "cell_type": "markdown",
      "source": [
        "# Comparison Operators\n",
        "There are many comparison operators in Pythin. They help form relational sytatementys that return a *Boolean* value of *True* or *False*"
      ],
      "metadata": {
        "id": "LDDYsLdIvua8"
      }
    },
    {
      "cell_type": "code",
      "source": [
        "a == b # value of a is equal to value of b\n",
        "a != b # value of a is not equal to value of b\n",
        "a > b # value of a is greater than value of b\n",
        "a < b # value of a is less than value b\n",
        "a >= b # value of a is greater than or equal to value of b\n",
        "a <= b # value of a is less than or equal to value b\n",
        "a == b and a < c # value of a is equal to value of b AND less than value of c\n",
        "a == b or a < c # value of a is equal to value of b OR less than value of c"
      ],
      "metadata": {
        "id": "3cjzjWwtv5nB"
      },
      "execution_count": null,
      "outputs": []
    },
    {
      "cell_type": "markdown",
      "source": [],
      "metadata": {
        "id": "1R9Y5xv8AQej"
      }
    },
    {
      "cell_type": "markdown",
      "source": [
        "# elif\n",
        "Sometimes we don't have just two conditions to check. If we have more than two, it can be useful to use the 'else if' command - *elif*"
      ],
      "metadata": {
        "id": "NGUEIXXxw8Fi"
      }
    },
    {
      "cell_type": "code",
      "source": [
        "if age < 16:\n",
        "    print (\"Please go to the children's room\")\n",
        "elif age < 60:\n",
        "    print (\"Please go to room A\")\n",
        "else:\n",
        "    print (\"Please go to room B\")"
      ],
      "metadata": {
        "id": "nfziia1OxMPX"
      },
      "execution_count": null,
      "outputs": []
    },
    {
      "cell_type": "code",
      "source": [],
      "metadata": {
        "id": "US0C_ClfxII8"
      },
      "execution_count": null,
      "outputs": []
    },
    {
      "cell_type": "markdown",
      "source": [
        "## Python Programming Workbook 1\n",
        "This workbook is intended to accompany Session 1C of the HSMA Training Programme - Python Programming Part 1. You should be completing this when prompted by the trainer as Exercise 2 of the session. You should read each task, and then try to write code to achieve what you are being asked in the code cell below each set of instructions. Remember - check your code is working by running the code cell (CTRL + Enter whilst in the cell, or click the play button in the bar at the top)."
      ],
      "metadata": {
        "id": "PlLIO5zwASCb"
      }
    },
    {
      "cell_type": "markdown",
      "source": [
        "Task 1 Write a simple calculator that asks the user to input two numbers, then adds them together and displays the result to the user."
      ],
      "metadata": {
        "id": "NB8dxmKFAYKo"
      }
    },
    {
      "cell_type": "code",
      "source": [
        "num_request1 = int(input(\"Please input first number: \"))\n",
        "num_request2 = int(input(\"Please input second number: \"))\n",
        "\n",
        "ans_result = int(num_request1 + num_request2)\n",
        "\n",
        "print (ans_result)"
      ],
      "metadata": {
        "id": "UgMoZWjLAZK8"
      },
      "execution_count": null,
      "outputs": []
    },
    {
      "cell_type": "markdown",
      "source": [
        "Task 2 Write code that checks whether the output of the calculation above is 1,000,000 or more, and if so, displays a message to the user saying \"Wow - that's a big calculation!\". If you haven't already, you'll need to make sure that the result of the calculation above is stored in a variable to do this."
      ],
      "metadata": {
        "id": "odPwOQbpAb_L"
      }
    },
    {
      "cell_type": "code",
      "source": [
        "if ans_result >= 1000000:\n",
        "    print (\"Wow - that's a big calculation!\")\n"
      ],
      "metadata": {
        "id": "tCX3UU8eAdeV"
      },
      "execution_count": null,
      "outputs": []
    },
    {
      "cell_type": "markdown",
      "source": [
        "Task 3 Write code that asks the user to input the length, width and height of a cuboid in cm. If all three measurements are the same, the program identifies that the shape is a cube, notifies the user of this, and then calculates the volume by simply cubing one of the measurements, before displaying the volume to the user. If all three measurements are not the same, then the program notifies the user that this is a cuboid, and calculates the volume of the cuboid, before displaying the volume to the user."
      ],
      "metadata": {
        "id": "G-W95_LEAgXK"
      }
    },
    {
      "cell_type": "code",
      "source": [
        "meas_length = int(input(\"Please enter the length of the cuboid in cm:\"))\n",
        "meas_width = int(input(\"Please enter the width of the cuboid in cm:\"))\n",
        "meas_height = int(input(\"Please enter the height of the cuboid in cm:\"))\n",
        "\n",
        "if meas_length == meas_width and meas_width == meas_height:\n",
        "    print (\"Shape is a cube\")\n",
        "    vol_cube = meas_length **3\n",
        "    print (f\"Volume of cube is: {vol_cube} cm\")\n",
        "else:\n",
        "    print (\"Shape is a cuboid\")\n",
        "    vol_cuboid = meas_length * meas_width * meas_height\n",
        "    print (f\"Volume of cube is: {vol_cuboid} cm\")"
      ],
      "metadata": {
        "id": "CxU5F5n6Ajd1"
      },
      "execution_count": null,
      "outputs": []
    },
    {
      "cell_type": "markdown",
      "source": [
        "Task 4 Note - this task is considered more challenging. You will need to think carefully about how you would approach this problem using what you've been shown. Read back through the notes carefully Write a piece of code that asks the user to input a day number from 1 up to and including 365, and which, assuming that day 1 represents a Monday, prints out the day of the week corresponding to the day the user inputs. For example, if the user were to input 16, the code should print out \"Tuesday\"."
      ],
      "metadata": {
        "id": "SB4J0Ui9AleM"
      }
    },
    {
      "cell_type": "code",
      "source": [
        "user_daynum = int(input(\"Enter number of a day in the year (number from 1 to 365):\"))\n",
        "\n",
        "mod_daynum = user_daynum % 7\n",
        "\n",
        "#print(mod_daynum)\n",
        "\n",
        "if mod_daynum == 1:\n",
        "    print (\"Monday\")\n",
        "elif mod_daynum == 2:\n",
        "    print (\"Tuesday\")\n",
        "elif mod_daynum == 3:\n",
        "    print (\"Wednesday\")\n",
        "elif mod_daynum == 4:\n",
        "    print (\"Thursday\")\n",
        "elif mod_daynum == 5:\n",
        "    print (\"Friday\")\n",
        "elif mod_daynum == 6:\n",
        "    print (\"Saturday\")\n",
        "elif mod_daynum == 7:\n",
        "    print (\"Sunday\")"
      ],
      "metadata": {
        "id": "TgYG_Ne5AoRc"
      },
      "execution_count": null,
      "outputs": []
    },
    {
      "cell_type": "markdown",
      "source": [
        "# Loops\n",
        "we often need to perform the same operation a number of times\n",
        "- do the same thing for a given number of iterations\n",
        "- to continue todo something whilst a certain condition is true.\n",
        "\n",
        "Wre can use two differern types of lopp to achieve the above - *for* lopps and *while* loops"
      ],
      "metadata": {
        "id": "aHsX6nG2De-U"
      }
    },
    {
      "cell_type": "code",
      "source": [
        "for x in range(10):\n",
        "  print (x)"
      ],
      "metadata": {
        "id": "RLsU7yQAD4dJ"
      },
      "execution_count": null,
      "outputs": []
    },
    {
      "cell_type": "markdown",
      "source": [
        "start at 0 and repeat until 10\n",
        "gives 10 iterations, but will never hit 10\n",
        "0\n",
        "1\n",
        "2\n",
        "3\n",
        "4\n",
        "5\n",
        "6\n",
        "7\n",
        "8\n",
        "9"
      ],
      "metadata": {
        "id": "qADOfafDFwkp"
      }
    },
    {
      "cell_type": "code",
      "source": [
        "for x in range (10, 20):\n",
        "  print(x)"
      ],
      "metadata": {
        "id": "ww7ZEZCFFPD9"
      },
      "execution_count": null,
      "outputs": []
    },
    {
      "cell_type": "markdown",
      "source": [
        "start at 10 and repeat until 20\n",
        "gives 10 iterations\n",
        "10\n",
        "11\n",
        "12\n",
        "13\n",
        "14\n",
        "15\n",
        "16\n",
        "17\n",
        "18\n",
        "19"
      ],
      "metadata": {
        "id": "qF_qvHVIFn7J"
      }
    },
    {
      "cell_type": "code",
      "source": [
        "for x in range (2,30,2):\n",
        "  print (x)"
      ],
      "metadata": {
        "id": "PAVDmfeKFbpb"
      },
      "execution_count": null,
      "outputs": []
    },
    {
      "cell_type": "markdown",
      "source": [
        "start at 2, go up to but dont include 30, go up in 2 increments"
      ],
      "metadata": {
        "id": "7F_3BjXtFgW2"
      }
    },
    {
      "cell_type": "code",
      "source": [
        "for x in range (10, 0, -1):\n",
        "  print (x)"
      ],
      "metadata": {
        "id": "GfWDkbRSF80C"
      },
      "execution_count": null,
      "outputs": []
    },
    {
      "cell_type": "markdown",
      "source": [
        "for loop that decrements index value"
      ],
      "metadata": {
        "id": "eE_YY0B-F5Zu"
      }
    },
    {
      "cell_type": "markdown",
      "source": [
        "10\n",
        "9\n",
        "8\n",
        "7\n",
        "6\n",
        "5\n",
        "4\n",
        "3\n",
        "2\n",
        "1"
      ],
      "metadata": {
        "id": "zcnbTnO0GBBg"
      }
    },
    {
      "cell_type": "markdown",
      "source": [
        "# For Loops - iterate through a list\n"
      ],
      "metadata": {
        "id": "Y7zKi5FZGFV-"
      }
    },
    {
      "cell_type": "code",
      "source": [
        "my_list = [1,10,\"Dan\", True, \"HSNA\"]\n",
        "\n",
        "for element in my_list:\n",
        "  print(element)"
      ],
      "metadata": {
        "id": "Aee6GKd7GLK4"
      },
      "execution_count": null,
      "outputs": []
    },
    {
      "cell_type": "code",
      "source": [
        "correct = False\n",
        "\n",
        "while correct == False:\n",
        "  answer = input(\"Type YES if Dan is the best :\")\n",
        "  if answer == \"YES\":\n",
        "    print (\"Correct answer\")\n",
        "    correct = True\n",
        "  else:\n",
        "      print (\"Think hard, and try again\")"
      ],
      "metadata": {
        "id": "pGzHaXVqGzTq"
      },
      "execution_count": null,
      "outputs": []
    },
    {
      "cell_type": "markdown",
      "source": [
        "#Breaking from a loop\n",
        "Sometimes we want to break out of a loop mid-flow. For example we may have a for loop, and want to break out of it when a condition has been met.\n",
        "We can do this using the *break* command, which *immediately* breaks out of the loop and continues as though the for loop had completed."
      ],
      "metadata": {
        "id": "aSWqI5zKHhXw"
      }
    },
    {
      "cell_type": "code",
      "source": [
        "total = 0\n",
        "\n",
        "for x in range(10):\n",
        "  total = total + x\n",
        "  print (total)\n",
        "\n",
        "  if total > 5:\n",
        "    break"
      ],
      "metadata": {
        "id": "-daK1_CKH5Ao"
      },
      "execution_count": null,
      "outputs": []
    },
    {
      "cell_type": "markdown",
      "source": [
        "#Infinite loops\n",
        "Sometimes you can write an accidental infinite loop that will never end.\n",
        "\n",
        "10 print \"hello world\"\n",
        "20 goto 10\n",
        "\n",
        "More modern examples include setting up a while loop that can never stop"
      ],
      "metadata": {
        "id": "G0ycqu82IknH"
      }
    },
    {
      "cell_type": "code",
      "source": [
        "x = 3\n",
        "\n",
        "while (x >=3):\n",
        "  print (x)\n",
        "  x += 1"
      ],
      "metadata": {
        "id": "MsgRMGcZI1V3"
      },
      "execution_count": null,
      "outputs": []
    },
    {
      "cell_type": "code",
      "source": [
        "while True:\n",
        "  print (\"Dan is the best\")"
      ],
      "metadata": {
        "id": "Fu1wh7msI7an"
      },
      "execution_count": null,
      "outputs": []
    },
    {
      "cell_type": "markdown",
      "source": [
        "If this happens (and it will at some point) hit Ctrl+C to interrupt and terminate the programme. Do this in the iPython console sub window in Spyder\n",
        "\n",
        "An infinite loop can be useful if you want the user to stay in the system making inputs until they choose to close the system, at which point you can use a break statement\n"
      ],
      "metadata": {
        "id": "qcWEFoLaJAnx"
      }
    },
    {
      "cell_type": "markdown",
      "source": [
        "## Python Programming Workbook 2"
      ],
      "metadata": {
        "id": "Jq0cX3wDHUC8"
      }
    },
    {
      "cell_type": "markdown",
      "source": [
        "Task 1 Write a piece of code that asks the user to input a number, and the machine then prints out the times table (from 1 x up to and including 12 x the number) for whatever number is entered."
      ],
      "metadata": {
        "id": "ZgLZeGynHX8j"
      }
    },
    {
      "cell_type": "code",
      "source": [
        "chosen_number = int(input(\"Please input a number:\"))\n",
        "\n",
        "for x in range (1,13):\n",
        "  print (f\"{x}*{chosen_number} is {x * chosen_number}\")"
      ],
      "metadata": {
        "colab": {
          "base_uri": "https://localhost:8080/"
        },
        "id": "E4UEomIgHZSo",
        "outputId": "5492f628-8951-4836-b74c-ffacc04b748a"
      },
      "execution_count": null,
      "outputs": [
        {
          "output_type": "stream",
          "name": "stdout",
          "text": [
            "Please input a number:2\n",
            "1*2 is 2\n",
            "2*2 is 4\n",
            "3*2 is 6\n",
            "4*2 is 8\n",
            "5*2 is 10\n",
            "6*2 is 12\n",
            "7*2 is 14\n",
            "8*2 is 16\n",
            "9*2 is 18\n",
            "10*2 is 20\n",
            "11*2 is 22\n",
            "12*2 is 24\n"
          ]
        }
      ]
    },
    {
      "cell_type": "markdown",
      "source": [
        "Task 2 Write code that sets up a new list called penchordians with the initial values \"Dan\", \"Tom\", \"Sean\" and \"Kerry\", and iterates through the list saying hello to each team member."
      ],
      "metadata": {
        "id": "QImksjCSHgdI"
      }
    },
    {
      "cell_type": "code",
      "source": [
        "penchordians = [\"Dan\", \"Tom\", \"Sean\", \"Kerry\"]\n",
        "\n",
        "for team_member in penchordians:\n",
        "  print (f\"Hello {team_member}\")\n"
      ],
      "metadata": {
        "colab": {
          "base_uri": "https://localhost:8080/"
        },
        "id": "7gxnvFJTHhL8",
        "outputId": "3963d32a-93d7-4f00-85fe-012f724e7ddc"
      },
      "execution_count": null,
      "outputs": [
        {
          "output_type": "stream",
          "name": "stdout",
          "text": [
            "Hello Dan\n",
            "Hello Tom\n",
            "Hello Sean\n",
            "Hello Kerry\n"
          ]
        }
      ]
    },
    {
      "cell_type": "markdown",
      "source": [
        "Task 3 Write a piece of code that asks the user to input a number, and will keep asking the user to input a number until the number entered is more than 100. However, if the user enters 0 then the program exits with an appropriate message."
      ],
      "metadata": {
        "id": "m0UXF2atHhpL"
      }
    },
    {
      "cell_type": "code",
      "source": [
        "user_number = int(input(\"Please enter a number:\"))\n",
        "\n",
        "while (user_number <=100):\n",
        "  if user_number == 0:\n",
        "    print (\"Exiting program\")\n",
        "    break\n",
        "  else:\n",
        "    user_number = int(input(\"Please enter a number:\"))"
      ],
      "metadata": {
        "colab": {
          "base_uri": "https://localhost:8080/"
        },
        "id": "mCxxLZvUHkNd",
        "outputId": "173dda02-aee9-4e99-91d8-e4963dfb0bf6"
      },
      "execution_count": null,
      "outputs": [
        {
          "output_type": "stream",
          "name": "stdout",
          "text": [
            "Please enter a number:0\n",
            "Exiting program\n"
          ]
        }
      ]
    },
    {
      "cell_type": "markdown",
      "source": [
        "Task 4 This task is a little more challenging. Think carefully about how you will approach this problem. Write a piece of code that counts up day numbers from 2 to 364 (inclusive), and displays a message giving the day number every 2nd day, and additionally displays a reminder to \"go shopping\" every 4 days."
      ],
      "metadata": {
        "id": "zsab6CeKHkV7"
      }
    },
    {
      "cell_type": "code",
      "source": [
        "for day in range (2, 365, 2):\n",
        "  print (f\"Day {day}\")\n",
        "  if day % 4 == 0:\n",
        "    print (\"Go shopping\")"
      ],
      "metadata": {
        "colab": {
          "base_uri": "https://localhost:8080/"
        },
        "id": "_8WNUuPnHmp9",
        "outputId": "041feec7-5549-4dca-c022-1e37104f476c"
      },
      "execution_count": null,
      "outputs": [
        {
          "output_type": "stream",
          "name": "stdout",
          "text": [
            "Day 2\n",
            "Day 4\n",
            "Go shopping\n",
            "Day 6\n",
            "Day 8\n",
            "Go shopping\n",
            "Day 10\n",
            "Day 12\n",
            "Go shopping\n",
            "Day 14\n",
            "Day 16\n",
            "Go shopping\n",
            "Day 18\n",
            "Day 20\n",
            "Go shopping\n",
            "Day 22\n",
            "Day 24\n",
            "Go shopping\n",
            "Day 26\n",
            "Day 28\n",
            "Go shopping\n",
            "Day 30\n",
            "Day 32\n",
            "Go shopping\n",
            "Day 34\n",
            "Day 36\n",
            "Go shopping\n",
            "Day 38\n",
            "Day 40\n",
            "Go shopping\n",
            "Day 42\n",
            "Day 44\n",
            "Go shopping\n",
            "Day 46\n",
            "Day 48\n",
            "Go shopping\n",
            "Day 50\n",
            "Day 52\n",
            "Go shopping\n",
            "Day 54\n",
            "Day 56\n",
            "Go shopping\n",
            "Day 58\n",
            "Day 60\n",
            "Go shopping\n",
            "Day 62\n",
            "Day 64\n",
            "Go shopping\n",
            "Day 66\n",
            "Day 68\n",
            "Go shopping\n",
            "Day 70\n",
            "Day 72\n",
            "Go shopping\n",
            "Day 74\n",
            "Day 76\n",
            "Go shopping\n",
            "Day 78\n",
            "Day 80\n",
            "Go shopping\n",
            "Day 82\n",
            "Day 84\n",
            "Go shopping\n",
            "Day 86\n",
            "Day 88\n",
            "Go shopping\n",
            "Day 90\n",
            "Day 92\n",
            "Go shopping\n",
            "Day 94\n",
            "Day 96\n",
            "Go shopping\n",
            "Day 98\n",
            "Day 100\n",
            "Go shopping\n",
            "Day 102\n",
            "Day 104\n",
            "Go shopping\n",
            "Day 106\n",
            "Day 108\n",
            "Go shopping\n",
            "Day 110\n",
            "Day 112\n",
            "Go shopping\n",
            "Day 114\n",
            "Day 116\n",
            "Go shopping\n",
            "Day 118\n",
            "Day 120\n",
            "Go shopping\n",
            "Day 122\n",
            "Day 124\n",
            "Go shopping\n",
            "Day 126\n",
            "Day 128\n",
            "Go shopping\n",
            "Day 130\n",
            "Day 132\n",
            "Go shopping\n",
            "Day 134\n",
            "Day 136\n",
            "Go shopping\n",
            "Day 138\n",
            "Day 140\n",
            "Go shopping\n",
            "Day 142\n",
            "Day 144\n",
            "Go shopping\n",
            "Day 146\n",
            "Day 148\n",
            "Go shopping\n",
            "Day 150\n",
            "Day 152\n",
            "Go shopping\n",
            "Day 154\n",
            "Day 156\n",
            "Go shopping\n",
            "Day 158\n",
            "Day 160\n",
            "Go shopping\n",
            "Day 162\n",
            "Day 164\n",
            "Go shopping\n",
            "Day 166\n",
            "Day 168\n",
            "Go shopping\n",
            "Day 170\n",
            "Day 172\n",
            "Go shopping\n",
            "Day 174\n",
            "Day 176\n",
            "Go shopping\n",
            "Day 178\n",
            "Day 180\n",
            "Go shopping\n",
            "Day 182\n",
            "Day 184\n",
            "Go shopping\n",
            "Day 186\n",
            "Day 188\n",
            "Go shopping\n",
            "Day 190\n",
            "Day 192\n",
            "Go shopping\n",
            "Day 194\n",
            "Day 196\n",
            "Go shopping\n",
            "Day 198\n",
            "Day 200\n",
            "Go shopping\n",
            "Day 202\n",
            "Day 204\n",
            "Go shopping\n",
            "Day 206\n",
            "Day 208\n",
            "Go shopping\n",
            "Day 210\n",
            "Day 212\n",
            "Go shopping\n",
            "Day 214\n",
            "Day 216\n",
            "Go shopping\n",
            "Day 218\n",
            "Day 220\n",
            "Go shopping\n",
            "Day 222\n",
            "Day 224\n",
            "Go shopping\n",
            "Day 226\n",
            "Day 228\n",
            "Go shopping\n",
            "Day 230\n",
            "Day 232\n",
            "Go shopping\n",
            "Day 234\n",
            "Day 236\n",
            "Go shopping\n",
            "Day 238\n",
            "Day 240\n",
            "Go shopping\n",
            "Day 242\n",
            "Day 244\n",
            "Go shopping\n",
            "Day 246\n",
            "Day 248\n",
            "Go shopping\n",
            "Day 250\n",
            "Day 252\n",
            "Go shopping\n",
            "Day 254\n",
            "Day 256\n",
            "Go shopping\n",
            "Day 258\n",
            "Day 260\n",
            "Go shopping\n",
            "Day 262\n",
            "Day 264\n",
            "Go shopping\n",
            "Day 266\n",
            "Day 268\n",
            "Go shopping\n",
            "Day 270\n",
            "Day 272\n",
            "Go shopping\n",
            "Day 274\n",
            "Day 276\n",
            "Go shopping\n",
            "Day 278\n",
            "Day 280\n",
            "Go shopping\n",
            "Day 282\n",
            "Day 284\n",
            "Go shopping\n",
            "Day 286\n",
            "Day 288\n",
            "Go shopping\n",
            "Day 290\n",
            "Day 292\n",
            "Go shopping\n",
            "Day 294\n",
            "Day 296\n",
            "Go shopping\n",
            "Day 298\n",
            "Day 300\n",
            "Go shopping\n",
            "Day 302\n",
            "Day 304\n",
            "Go shopping\n",
            "Day 306\n",
            "Day 308\n",
            "Go shopping\n",
            "Day 310\n",
            "Day 312\n",
            "Go shopping\n",
            "Day 314\n",
            "Day 316\n",
            "Go shopping\n",
            "Day 318\n",
            "Day 320\n",
            "Go shopping\n",
            "Day 322\n",
            "Day 324\n",
            "Go shopping\n",
            "Day 326\n",
            "Day 328\n",
            "Go shopping\n",
            "Day 330\n",
            "Day 332\n",
            "Go shopping\n",
            "Day 334\n",
            "Day 336\n",
            "Go shopping\n",
            "Day 338\n",
            "Day 340\n",
            "Go shopping\n",
            "Day 342\n",
            "Day 344\n",
            "Go shopping\n",
            "Day 346\n",
            "Day 348\n",
            "Go shopping\n",
            "Day 350\n",
            "Day 352\n",
            "Go shopping\n",
            "Day 354\n",
            "Day 356\n",
            "Go shopping\n",
            "Day 358\n",
            "Day 360\n",
            "Go shopping\n",
            "Day 362\n",
            "Day 364\n",
            "Go shopping\n"
          ]
        }
      ]
    },
    {
      "cell_type": "markdown",
      "source": [
        "# Working with Lists : Create and Append"
      ],
      "metadata": {
        "id": "VjhPH_dtHnfr"
      }
    },
    {
      "cell_type": "markdown",
      "source": [
        "Lists are very useful ways to store multiple items of data, to which we can refer later."
      ],
      "metadata": {
        "id": "RwrPUMCWHraD"
      }
    },
    {
      "cell_type": "code",
      "source": [
        "#Define a new empty list\n",
        "my_empty_list = []\n",
        "\n",
        "#Define a new list with some starting elements\n",
        "my_list = [3, 4, 7, \"hello\"]\n",
        "\n",
        "#To add an item to a list, we use the append function\n",
        "my_list.append(2)\n",
        "print (my_list)"
      ],
      "metadata": {
        "colab": {
          "base_uri": "https://localhost:8080/"
        },
        "id": "PR9wXiVTHuAF",
        "outputId": "ed18be27-dcf6-4599-f7fd-f6b326add8e2"
      },
      "execution_count": null,
      "outputs": [
        {
          "output_type": "stream",
          "name": "stdout",
          "text": [
            "[3, 4, 7, 'hello', 2]\n"
          ]
        }
      ]
    },
    {
      "cell_type": "markdown",
      "source": [
        "# Working with Lists : Extend"
      ],
      "metadata": {
        "id": "EvkVKfSVIOXE"
      }
    },
    {
      "cell_type": "markdown",
      "source": [
        "We can also use the extend function to add multiple items to a list – we give it a list, and it adds all the items in that list to the list to\n",
        "which we want to add :"
      ],
      "metadata": {
        "id": "OINDoo4IIToz"
      }
    },
    {
      "cell_type": "code",
      "source": [
        "my_list_a = [1,2,3,4,5]\n",
        "my_list_a.extend([6, 7, 8, 9, 10])\n",
        "print (my_list_a)"
      ],
      "metadata": {
        "colab": {
          "base_uri": "https://localhost:8080/"
        },
        "id": "r-pT_u23IW8r",
        "outputId": "d8e3533f-1a7e-4896-bb22-0382dd21a3b1"
      },
      "execution_count": null,
      "outputs": [
        {
          "output_type": "stream",
          "name": "stdout",
          "text": [
            "[1, 2, 3, 4, 5, 6, 7, 8, 9, 10]\n"
          ]
        }
      ]
    },
    {
      "cell_type": "markdown",
      "source": [
        "# Working with Lists : Indices"
      ],
      "metadata": {
        "id": "9SoNKh0tIm3F"
      }
    },
    {
      "cell_type": "markdown",
      "source": [
        "To refer to a specific item in a list, we use [x]\n",
        "notation, where x is the index of the element we\n",
        "want to refer to.\n",
        "\n",
        "REMEMBER : In Python, as with most\n",
        "programming languages, we start counting from 0.\n",
        "So the second element would have an index of 1."
      ],
      "metadata": {
        "id": "la9hUarPIqJk"
      }
    },
    {
      "cell_type": "code",
      "source": [
        "print (my_list[2])"
      ],
      "metadata": {
        "colab": {
          "base_uri": "https://localhost:8080/"
        },
        "id": "tQQbjAqBIoE7",
        "outputId": "52c0666a-bf85-43be-f051-793cc255670b"
      },
      "execution_count": null,
      "outputs": [
        {
          "output_type": "stream",
          "name": "stdout",
          "text": [
            "7\n"
          ]
        }
      ]
    },
    {
      "cell_type": "markdown",
      "source": [
        "# Working with Lists : Negative Indices"
      ],
      "metadata": {
        "id": "HaT4EmCiJBqC"
      }
    },
    {
      "cell_type": "markdown",
      "source": [
        "We can also use negative indexing to refer to an\n",
        "item based on its position from the end of the list.\n",
        "An index of -1 would give the last item in the list.\n",
        "An index of -2 would give the penultimate item in\n",
        "the list etc\n"
      ],
      "metadata": {
        "id": "kAOkWeW_JEAq"
      }
    },
    {
      "cell_type": "code",
      "source": [
        "print (my_list[-2])"
      ],
      "metadata": {
        "colab": {
          "base_uri": "https://localhost:8080/"
        },
        "id": "lbTowg3IJK9P",
        "outputId": "0033a867-1473-425c-86ab-ccccff4b0898"
      },
      "execution_count": null,
      "outputs": [
        {
          "output_type": "stream",
          "name": "stdout",
          "text": [
            "hello\n"
          ]
        }
      ]
    },
    {
      "cell_type": "markdown",
      "source": [
        "# Working with Lists : Index Ranges"
      ],
      "metadata": {
        "id": "fqQqgxCGJQvb"
      }
    },
    {
      "cell_type": "markdown",
      "source": [
        "We can refer to multiple items in a list, rather than a single element."
      ],
      "metadata": {
        "id": "vDjQ__s-JSVb"
      }
    },
    {
      "cell_type": "code",
      "source": [
        "my_list = [3, 4, 7, \"hello\", 2]\n",
        "\n",
        "#print everything from 2nd element up to (but not including) 4th element\n",
        "print (my_list[1:3])\n",
        "\n",
        "# print everything up to (but not including) 3rd element\n",
        "print (my_list[:2])\n",
        "\n",
        "# print everytyhing from 4th element onwards\n",
        "print (my_list[3:])"
      ],
      "metadata": {
        "colab": {
          "base_uri": "https://localhost:8080/"
        },
        "id": "1h57iyaSJUXc",
        "outputId": "2b18a6b6-ae59-4066-e61d-f0e06a759c19"
      },
      "execution_count": null,
      "outputs": [
        {
          "output_type": "stream",
          "name": "stdout",
          "text": [
            "[4, 7]\n",
            "[3, 4]\n",
            "['hello', 2]\n"
          ]
        }
      ]
    },
    {
      "cell_type": "markdown",
      "source": [
        "# Working with Lists : Length and Pop"
      ],
      "metadata": {
        "id": "NOdOfRiHLI8Y"
      }
    },
    {
      "cell_type": "code",
      "source": [
        "# We can remove items from a list using either remove() or pop()\n",
        "\n",
        "# remove() removes a specific item\n",
        "my_list.remove(\"hello\")\n",
        "print (my_list)"
      ],
      "metadata": {
        "colab": {
          "base_uri": "https://localhost:8080/"
        },
        "id": "JR5MfU5YLLfx",
        "outputId": "0d373cff-2d82-4835-fcea-43c39d37b126"
      },
      "execution_count": null,
      "outputs": [
        {
          "output_type": "stream",
          "name": "stdout",
          "text": [
            "[3, 4, 7, 2]\n"
          ]
        }
      ]
    },
    {
      "cell_type": "code",
      "source": [
        "# Lets restore the list\n",
        "my_list = [3, 4, 7, \"hello\", 2]\n",
        "\n",
        "# pop() removes an item specified by its index in the list\n",
        "# or removes the last item in the list if no index is specified\n",
        "my_list.pop(3)\n",
        "print (my_list)\n",
        "\n",
        "#both of these remove 'hello' from the list"
      ],
      "metadata": {
        "colab": {
          "base_uri": "https://localhost:8080/"
        },
        "id": "xZNR4mIjLdoj",
        "outputId": "ffd3fa07-d261-4e51-cab9-a6f0fb8758d3"
      },
      "execution_count": null,
      "outputs": [
        {
          "output_type": "stream",
          "name": "stdout",
          "text": [
            "[3, 4, 7, 2]\n"
          ]
        }
      ]
    },
    {
      "cell_type": "markdown",
      "source": [
        "We can return the length of a list using the len()\n",
        "function :"
      ],
      "metadata": {
        "id": "mIZdqhIlLKX3"
      }
    },
    {
      "cell_type": "code",
      "source": [
        "my_list = [3,9,1,2]\n",
        "print (len(my_list))"
      ],
      "metadata": {
        "colab": {
          "base_uri": "https://localhost:8080/"
        },
        "id": "vdUJugP7L0a9",
        "outputId": "fc92a4b0-51de-463a-801e-430d2de65ecd"
      },
      "execution_count": null,
      "outputs": [
        {
          "output_type": "stream",
          "name": "stdout",
          "text": [
            "4\n"
          ]
        }
      ]
    },
    {
      "cell_type": "markdown",
      "source": [
        "# Working with Lists : Checking existence\n",
        "We can check whether an item is in a list using\n",
        "the in command."
      ],
      "metadata": {
        "id": "kzEy66sML8jB"
      }
    },
    {
      "cell_type": "code",
      "source": [
        "my_list = [3,4,7, \"hello\", 2]\n",
        "\n",
        "if 2 in my_list:\n",
        "  print (\"Already there\")"
      ],
      "metadata": {
        "colab": {
          "base_uri": "https://localhost:8080/"
        },
        "id": "sVP7BnslMAdh",
        "outputId": "ad0b1de5-48d4-433c-ee5a-098b6f83dd71"
      },
      "execution_count": null,
      "outputs": [
        {
          "output_type": "stream",
          "name": "stdout",
          "text": [
            "Already there\n"
          ]
        }
      ]
    },
    {
      "cell_type": "markdown",
      "source": [
        "# Working with Lists : Copying Lists\n",
        "It may be tempting to copy a list by saying :"
      ],
      "metadata": {
        "id": "Uur9ImtdMKah"
      }
    },
    {
      "cell_type": "code",
      "source": [
        "my_list = [3,4,7, \"hello\", 2]\n",
        "\n",
        "copy_of_my_list = my_list"
      ],
      "metadata": {
        "id": "atwyCUOJMNch"
      },
      "execution_count": null,
      "outputs": []
    },
    {
      "cell_type": "markdown",
      "source": [
        "BUT this won’t work as expected. What do you\n",
        "think will happen?\n",
        "\n",
        "The previous example will simply make another\n",
        "reference to the same list.\n",
        "\n",
        "To create a separate copy of the list, we need to\n",
        "use the copy() function."
      ],
      "metadata": {
        "id": "-kKpmQjIMee9"
      }
    },
    {
      "cell_type": "code",
      "source": [
        "my_list = [3,4,7, \"hello\", 2]\n",
        "\n",
        "copy_of_my_list = my_list.copy()"
      ],
      "metadata": {
        "id": "BIkIijfjMkcI"
      },
      "execution_count": null,
      "outputs": []
    },
    {
      "cell_type": "markdown",
      "source": [
        "Now we have two lists, and can work with them\n",
        "separately."
      ],
      "metadata": {
        "id": "ysF2T53hMqTQ"
      }
    },
    {
      "cell_type": "markdown",
      "source": [
        "# List Comprehension\n",
        "Python has a really useful feature called “List Comprehension” that allows us to easily create lists based off other lists using a single line of code.\n",
        "\n",
        "Let’s consider an example. Let’s imagine we have a list of numbers, and we want to set up a second list containing all the numbers of the first list, but\n",
        "doubled.\n",
        "\n",
        "Here’s one way we could do it :"
      ],
      "metadata": {
        "id": "ZdE78MMhMs5U"
      }
    },
    {
      "cell_type": "code",
      "source": [
        "list_a = [1,2,3,4,5]\n",
        "list_b = []\n",
        "\n",
        "for number in list_a:\n",
        "  list_b.append(number*2)\n",
        "\n",
        "print (list_b)"
      ],
      "metadata": {
        "colab": {
          "base_uri": "https://localhost:8080/"
        },
        "id": "pThq5_w6Mz0R",
        "outputId": "6a3bd01f-9010-4464-ec05-4aa5d8b6e97a"
      },
      "execution_count": null,
      "outputs": [
        {
          "output_type": "stream",
          "name": "stdout",
          "text": [
            "[2, 4, 6, 8, 10]\n"
          ]
        }
      ]
    },
    {
      "cell_type": "markdown",
      "source": [
        "Or we could just use a list comprehension :"
      ],
      "metadata": {
        "id": "Ysq2NL0lNLqp"
      }
    },
    {
      "cell_type": "code",
      "source": [
        "list_a = [1,2,3,4,5]\n",
        "list_b = [x*2 for x in list_a]\n",
        "\n",
        "print(list_b)"
      ],
      "metadata": {
        "colab": {
          "base_uri": "https://localhost:8080/"
        },
        "id": "HDmyBwklNOLd",
        "outputId": "0eda6f8f-4469-4a55-b441-f0abe5fb898e"
      },
      "execution_count": null,
      "outputs": [
        {
          "output_type": "stream",
          "name": "stdout",
          "text": [
            "[2, 4, 6, 8, 10]\n"
          ]
        }
      ]
    },
    {
      "cell_type": "markdown",
      "source": [
        "We can also use conditional logic in a list comprehension, so that we form a list from another list where the elements meet certain criteria :"
      ],
      "metadata": {
        "id": "vPe0o0DrNXWo"
      }
    },
    {
      "cell_type": "code",
      "source": [
        "list_a = [1,2,3,4,5, 6, 7, 8, 9, 10]\n",
        "list_b = []\n",
        "\n",
        "for number in list_a:\n",
        "  if number % 2 == 0:\n",
        "    list_b.append(number)\n",
        "print (list_b)"
      ],
      "metadata": {
        "colab": {
          "base_uri": "https://localhost:8080/"
        },
        "id": "1ucm48IoNY3f",
        "outputId": "f7c6831c-c337-4763-e3b3-f73c422ccf2a"
      },
      "execution_count": null,
      "outputs": [
        {
          "output_type": "stream",
          "name": "stdout",
          "text": [
            "[2, 4, 6, 8, 10]\n"
          ]
        }
      ]
    },
    {
      "cell_type": "code",
      "source": [
        "list_a = [1,2,3,4,5, 6, 7, 8, 9, 10]\n",
        "list_b = [num for num in list_a if num % 2 ==0]\n",
        "\n",
        "print (list_b)"
      ],
      "metadata": {
        "colab": {
          "base_uri": "https://localhost:8080/"
        },
        "id": "_dn8zMYoNn1a",
        "outputId": "aa07d10b-f8d0-40cc-b89d-54c5e3b6ca79"
      },
      "execution_count": null,
      "outputs": [
        {
          "output_type": "stream",
          "name": "stdout",
          "text": [
            "[2, 4, 6, 8, 10]\n"
          ]
        }
      ]
    },
    {
      "cell_type": "markdown",
      "source": [
        "#Dictionaries \n",
        "A dictionary is a really useful way to store values associated with an index value. We may want to store various information about a patient in a dictionary so it becomes easier to identify to what each element refers :"
      ],
      "metadata": {
        "id": "_O9JAY9kNx3D"
      }
    },
    {
      "cell_type": "code",
      "source": [
        "my_patient_dictionary = {\"patient_ID\":1674234,\n",
        "                         \"name\": \"Bob Smith\",\n",
        "                         \"year_of_birth\":1961,\n",
        "                         \"readmission\":True}\n",
        "\n",
        "print (my_patient_dictionary)\n",
        "\n",
        "# We can easily grab a particular piece of information\n",
        "# about our patient # using [] notation\n",
        "print (my_patient_dictionary[\"name\"])\n",
        "\n",
        "# And we can change dictionary values easily\n",
        "my_patient_dictionary[\"year_of_birth\"] = 1960\n",
        "print (my_patient_dictionary)\n",
        "\n",
        "# Or even add new key-value pairs\n",
        "my_patient_dictionary[\"month_of_birth\"] = 6\n",
        "print(my_patient_dictionary)\n",
        "\n",
        "# or delete one we no longer need\n",
        "del my_patient_dictionary[\"readmission\"]\n",
        "print (my_patient_dictionary)\n",
        "\n"
      ],
      "metadata": {
        "colab": {
          "base_uri": "https://localhost:8080/"
        },
        "id": "4kocdT91N2vJ",
        "outputId": "f7130729-5441-4b39-e073-c6e71d98b640"
      },
      "execution_count": null,
      "outputs": [
        {
          "output_type": "stream",
          "name": "stdout",
          "text": [
            "{'patient_ID': 1674234, 'name': 'Bob Smith', 'year_of_birth': 1961, 'readmission': True}\n",
            "Bob Smith\n",
            "{'patient_ID': 1674234, 'name': 'Bob Smith', 'year_of_birth': 1960, 'readmission': True}\n",
            "{'patient_ID': 1674234, 'name': 'Bob Smith', 'year_of_birth': 1960, 'readmission': True, 'month_of_birth': 6}\n",
            "{'patient_ID': 1674234, 'name': 'Bob Smith', 'year_of_birth': 1960, 'month_of_birth': 6}\n"
          ]
        }
      ]
    },
    {
      "cell_type": "markdown",
      "source": [
        "##Python Programming Workbook 3"
      ],
      "metadata": {
        "id": "8hO85R_yPfUa"
      }
    },
    {
      "cell_type": "markdown",
      "source": [
        "Task 1 Write a piece of code that asks the user to name their five favourite things in the world in descending order, and then stores them in a list, removes the last two, and prints out the top three to the user."
      ],
      "metadata": {
        "id": "PlEnOVtYPjFh"
      }
    },
    {
      "cell_type": "code",
      "source": [
        "print (\"Please enter your top five favourite things in descending order:\")\n",
        "\n",
        "list_of_favourite_things = []\n",
        "\n",
        "for x in range(5):\n",
        "  favourite_thing = input(\"Please enter a favourite thing:\")\n",
        "  list_of_favourite_things.append(favourite_thing)\n",
        "\n",
        "list_of_favourite_things.pop()\n",
        "list_of_favourite_things.pop()\n",
        "\n",
        "print(\"Your list of favourite things are:\")\n",
        "\n",
        "for thing in list_of_favourite_things:\n",
        "    print (thing)"
      ],
      "metadata": {
        "colab": {
          "base_uri": "https://localhost:8080/"
        },
        "id": "6yocv5vtzd5F",
        "outputId": "9961c879-dde7-41f3-ca77-08c54193b475"
      },
      "execution_count": null,
      "outputs": [
        {
          "output_type": "stream",
          "name": "stdout",
          "text": [
            "Please enter your top five favourite things in descending order:\n",
            "Please enter a favourite thing:a\n",
            "Please enter a favourite thing:b\n",
            "Please enter a favourite thing:c\n",
            "Please enter a favourite thing:d\n",
            "Please enter a favourite thing:e\n",
            "Your list of favourite things are:\n",
            "a\n",
            "b\n",
            "c\n"
          ]
        }
      ]
    },
    {
      "cell_type": "code",
      "source": [
        "# my effort :(\n",
        "# dont write 5 input statements - use loops instead \n",
        "# can i do this in 2 lines of code instead of 100\n",
        "\n",
        "fav_1 = input(\"Please input 1st favourite thing: \")\n",
        "fav_2 = input(\"Please input 2nd favourite thing: \")\n",
        "fav_3 = input(\"Please input 3rd favourite thing: \")\n",
        "fav_4 = input(\"Please input 4th favourite thing: \")\n",
        "fav_5 = input(\"Please input 5th favourite thing: \")\n",
        "\n",
        "fav_list = [fav_1, fav_2, fav_3, fav_4, fav_5]\n",
        "\n",
        "print(fav_list)\n",
        "\n",
        "print (len(fav_list))\n",
        "\n",
        "#removeds last element from list twice\n",
        "fav_list.pop()\n",
        "fav_list.pop()\n",
        "\n",
        "print (fav_list)"
      ],
      "metadata": {
        "colab": {
          "base_uri": "https://localhost:8080/"
        },
        "id": "-UyPMEmPOUhv",
        "outputId": "0fe1ec86-2021-44ee-f49f-5d561767af5b"
      },
      "execution_count": null,
      "outputs": [
        {
          "output_type": "stream",
          "name": "stdout",
          "text": [
            "Please input 1st favourite thing: a\n",
            "Please input 2nd favourite thing: b\n",
            "Please input 3rd favourite thing: c\n",
            "Please input 4th favourite thing: d\n",
            "Please input 5th favourite thing: e\n",
            "['a', 'b', 'c', 'd', 'e']\n",
            "5\n",
            "['a', 'b', 'c', 'd']\n",
            "['a', 'b', 'c']\n"
          ]
        }
      ]
    },
    {
      "cell_type": "markdown",
      "source": [
        "Task 2 Write a program that asks the user to input 10 numbers, which are stored in a list. Then, using a single line of code, create and print a new list that contains only numbers that are both odd and less than 100."
      ],
      "metadata": {
        "id": "tYGUNPVzPnVB"
      }
    },
    {
      "cell_type": "code",
      "source": [
        "list_of_numbers = []\n",
        "\n",
        "for x in range(10):\n",
        "  number = int(input(\"Please input a number: \"))\n",
        "  list_of_numbers.append(number)\n",
        "print ([num for num in list_of_numbers if num <100 and num %2 ==1])"
      ],
      "metadata": {
        "colab": {
          "base_uri": "https://localhost:8080/"
        },
        "id": "BDvWXDkxOhJU",
        "outputId": "64023cf6-0ab7-42ba-e999-1a23d0a7a0e6"
      },
      "execution_count": null,
      "outputs": [
        {
          "output_type": "stream",
          "name": "stdout",
          "text": [
            "Please input a number: 2\n",
            "Please input a number: 2\n",
            "Please input a number: 4\n",
            "Please input a number: 100\n",
            "Please input a number: 101\n",
            "Please input a number: 5\n",
            "Please input a number: 3\n",
            "Please input a number: 4\n",
            "Please input a number: 5\n",
            "Please input a number: 6\n",
            "[5, 3, 5]\n"
          ]
        }
      ]
    },
    {
      "cell_type": "markdown",
      "source": [
        "Task 3 You have crashed on a mysterious island. After several years of increasingly bizarre plot developments, you walk into a cave and discover mysterious writings on the wall that associate numbers with the surname of PenCHORD team members : \"4 - Chalk, 8 - Allen, 15 - Monks, 16 - Pearn, 23 - Manzi, 42 - Harper\". Perplexed by this, you decide you should probably write a piece of Python code that stores these entries in a dictionary called \"candidates\", and which allows the user to input a number to find out the corresponding \"candidate\" surname. If the user inputs a candidate number that doesn't exist, the system should warn them of this and allow them to input again. The system should also keep asking the user to input candidate numbers until the user types -1, at which point the program says \"Goodbye\" and terminates."
      ],
      "metadata": {
        "id": "djQko2_XPo8j"
      }
    },
    {
      "cell_type": "code",
      "source": [
        "candidates = {4:\"Chalk\", 8:\"Allen\", 15:\"Monks\", 16:\"Pearn\", 23:\"Manzi\", \n",
        "              42:\"Harper\"}\n",
        "\n",
        "while True:\n",
        "  selected_candidate = int(input(\"Please enter a candidate number, (enter -1 to exit)\"))\n",
        "\n",
        "  if selected_candidate in candidates:\n",
        "    print (candidates[selected_candidate])\n",
        "  elif selected_candidate == -1:\n",
        "    print (\"Goodbye\")\n",
        "    break\n",
        "  else:\n",
        "    print (\"No such candidate\")"
      ],
      "metadata": {
        "colab": {
          "base_uri": "https://localhost:8080/"
        },
        "id": "367VReSZOxMZ",
        "outputId": "0712b089-98a1-4fa9-f4f5-3282d4e00c7e"
      },
      "execution_count": null,
      "outputs": [
        {
          "output_type": "stream",
          "name": "stdout",
          "text": [
            "Please enter a candidate number, (enter -1 to exit)8\n",
            "Allen\n",
            "Please enter a candidate number, (enter -1 to exit)15\n",
            "Monks\n",
            "Please enter a candidate number, (enter -1 to exit)23\n",
            "Manzi\n",
            "Please enter a candidate number, (enter -1 to exit)42\n",
            "Harper\n",
            "Please enter a candidate number, (enter -1 to exit)-1\n",
            "Goodbye\n"
          ]
        }
      ]
    },
    {
      "cell_type": "markdown",
      "source": [
        "# Reserved Keywords\n",
        "easy to accidentally overwrite standard functions by calling a function as something like 'int'\n",
        "effectively breaking what Python thinks 'int' in\n",
        "\n",
        "Restart kernal as a way to fix\n",
        "\n",
        "Often comes up as a keyword or as a colour depending on the IDE you are using.\n",
        "\n",
        "#False,\tdef,\tif,\traise, None,\tdel,\timport,\treturn, True,\telif,\tin,\ttry, and,\telse,\tis,\twhile, as,\texcept,\tlambda,\twith, assert,\tfinally,\tnonlocal,\tyield, break,\tfor,\tnot, class,\tfrom,\tor,\tcontinue,\tglobal,\tpass\n",
        "\n",
        "You can see this list any time by typing help(\"keywords\") to the Python interpreter. Reserved words are case-sensitive and must be used exactly as shown. They are all entirely lowercase, except for False, None, and True."
      ],
      "metadata": {
        "id": "ZcXb_-IX3F5y"
      }
    },
    {
      "cell_type": "markdown",
      "source": [
        "# Libraries and Imports\n",
        "Libraries are collections of functions that have\n",
        "been written by other people, containing useful\n",
        "bits of code so we don’t have to reinvent the\n",
        "wheel every time we write a program. You’ll learn\n",
        "about functions in the next session.\n",
        "To use libraries, we need to import them into our\n",
        "program. We usually write import statements at\n",
        "the start of our program."
      ],
      "metadata": {
        "id": "V_BpPMgCRLxp"
      }
    },
    {
      "cell_type": "code",
      "source": [
        "import math # imports math library\n",
        "import random # imports the random library"
      ],
      "metadata": {
        "id": "Ka34s1veRP4R"
      },
      "execution_count": null,
      "outputs": []
    },
    {
      "cell_type": "markdown",
      "source": [
        "# The Random Library\n",
        "Python’s “random” library contains a number of\n",
        "functions that allow us to generate random numbers.\n",
        "This is useful, because we need random numbers\n",
        "if we’re going to build stochastic models.\n",
        "Remember our talk about distributions in the very\n",
        "first session…?\n",
        "\n",
        "#Distributions\n",
        "A distribution is a way of representing the variability within data. It provides us\n",
        "with an estimate of the probability of a value occurring in the future.\n",
        "\n",
        "For example, a distribution might tell us that 30% of patients in the past have spent 6 minutes with the triage nurse. We can then say that, for each new patient coming in, there is a 30% chance that the time they spend with the triage nurse will be 6 minutes.\n",
        "\n",
        "There are lots of “named distributions” available – distributions that have certain shapes and characteristics. The one you choose will depend on the\n",
        "shape of your real world data – you want to find one that best “fits” the shape of your data.\n",
        "\n",
        "Each distribution is ‘defined’ by zero to many parameters. These parameters can specify the skew, range etc of the distribution.\n",
        "\n",
        "Exponential – common for inter-arrival times\n",
        "Log Normal – common for process times\n",
        "Poisson – describes the number of arrivals in any given period if arrival is random\n",
        "Triangular – useful when data is limited"
      ],
      "metadata": {
        "id": "jCPHaub2RZhx"
      }
    },
    {
      "cell_type": "markdown",
      "source": [
        "# Random Library Functions\n",
        "Now we’ve imported the Random library, let’s look at some of the functions we can use. When we call a function from the library, we need to use the format :\n",
        "library_name.function_name()"
      ],
      "metadata": {
        "id": "kY8AK6hURwjx"
      }
    },
    {
      "cell_type": "code",
      "source": [
        "import random\n",
        "\n",
        "# generate a random number between 0 and 1 sampled from a uniform distribution\n",
        "random.random()\n",
        "\n",
        "# generate a random integer (whole number) between 1 and 10 inclusive\n",
        "random.randint(1,10)\n",
        "\n",
        "my_list = [\"Dan\", \"Mike\", \"Kerry\"]\n",
        "\n",
        "# Choose a random item from the list my_list\n",
        "random.choice(my_list)"
      ],
      "metadata": {
        "colab": {
          "base_uri": "https://localhost:8080/",
          "height": 35
        },
        "id": "wl7hCxGo2Wua",
        "outputId": "479a0975-bf5c-4432-d2e3-aaffcf352476"
      },
      "execution_count": null,
      "outputs": [
        {
          "output_type": "execute_result",
          "data": {
            "text/plain": [
              "'Mike'"
            ],
            "application/vnd.google.colaboratory.intrinsic+json": {
              "type": "string"
            }
          },
          "metadata": {},
          "execution_count": 58
        }
      ]
    },
    {
      "cell_type": "markdown",
      "source": [
        "# Exercise 5 - Are you smarter than Dan as a 4 year\n",
        "#old?\n",
        "When I was 4 years old, I wrote my very first program in BASIC on my Atari 800XL. In it,\n",
        "the computer randomly picked a whole number between 1 and 100, and the user had 10\n",
        "chances to guess the number. Every time the user guessed a number, they would be told\n",
        "either that the number was “too low”, “too high” or “correct”. If the user used up all 10\n",
        "chances without guessing correctly, they were told “you lose” and the game would end.\n",
        "You now have been taught enough to write this program in Python.\n",
        "You should write the game above (I’d advise using Spyder) along with the following extra\n",
        "features that 4-year old Dan didn’t implement :\n",
        "- a score, which starts at 1000 and which reduces by 100 for every unsuccessful guess,\n",
        "and which is displayed if the user wins\n",
        "- the user’s guesses are stored in a list and printed once the game is over\n",
        "- the game asks if the player wants to play again after every game ends\n",
        "- after each game, the player’s score is checked against the current high-score (default is\n",
        "0) and if the last score is higher than the recorded high score then this replaces the high\n",
        "score.\n",
        "If you do all that with time to spare, add some bells and whistles of your choosing!\n",
        "You have 45 minutes (+10 minute break), and you should work as a group."
      ],
      "metadata": {
        "id": "ZNSwNkaS28YV"
      }
    },
    {
      "cell_type": "code",
      "source": [
        "#Created on Tue Oct 22 11:52:35 2019\n",
        "#@author: dan\n",
        "\n",
        "import random\n",
        "\n",
        "high_score = 0\n",
        "continue_play = True\n",
        "\n",
        "while continue_play == True:\n",
        "    print (\"Welcome to the game.  I'm thinking of a number between 1 and 100.\")\n",
        "    print (\"Can you guess what number I'm thinking of?\")\n",
        "    print ()\n",
        "\n",
        "    computer_number = random.randint(1,100)\n",
        "\n",
        "    number_of_guesses = 10\n",
        "    correctly_guessed = False\n",
        "    score = 1000\n",
        "    list_of_guesses = []\n",
        "\n",
        "    for i in range(number_of_guesses):\n",
        "        print (f\"This is guess number {i+1}\")\n",
        "        user_guess = int(input(\"INPUT YOUR GUESS : \"))\n",
        "\n",
        "        list_of_guesses.append(user_guess)\n",
        "\n",
        "        if user_guess == computer_number:\n",
        "            print (\"Correct!  Well done.\")\n",
        "            print (f\"You scored {score}\")\n",
        "            print (f\"Your guesses : {list_of_guesses}\")\n",
        "            correctly_guessed = True\n",
        "            break\n",
        "        elif user_guess < computer_number:\n",
        "            print (\"Too low.\")\n",
        "            score -= 100\n",
        "        else:\n",
        "            print (\"Too high.\")\n",
        "            score -= 100\n",
        "\n",
        "    if correctly_guessed == False:\n",
        "        print (\"You lose.\")\n",
        "        print (f\"Your guesses : {list_of_guesses}\")\n",
        "\n",
        "    if score > high_score:\n",
        "        print (f\"NEW HIGH SCORE - {score}\")\n",
        "        high_score = score\n",
        "\n",
        "    play_again_choice = input(\"Type Y to play again : \")\n",
        "\n",
        "    if play_again_choice != \"Y\":\n",
        "        continue_play = False\n",
        "\n"
      ],
      "metadata": {
        "colab": {
          "base_uri": "https://localhost:8080/"
        },
        "id": "ukV1zvJX3jWI",
        "outputId": "0d80e108-3223-4107-c22e-a518c367d096"
      },
      "execution_count": null,
      "outputs": [
        {
          "name": "stdout",
          "output_type": "stream",
          "text": [
            "Welcome to the game.  I'm thinking of a number between 1 and 100.\n",
            "Can you guess what number I'm thinking of?\n",
            "\n",
            "This is guess number 1\n",
            "INPUT YOUR GUESS : 25\n",
            "Too low.\n",
            "This is guess number 2\n",
            "INPUT YOUR GUESS : 50\n",
            "Too low.\n",
            "This is guess number 3\n",
            "INPUT YOUR GUESS : 75\n",
            "Too low.\n",
            "This is guess number 4\n",
            "INPUT YOUR GUESS : 85\n",
            "Too low.\n",
            "This is guess number 5\n",
            "INPUT YOUR GUESS : 95\n",
            "Too high.\n",
            "This is guess number 6\n",
            "INPUT YOUR GUESS : 90\n",
            "Correct!  Well done.\n",
            "You scored 500\n",
            "Your guesses : [25, 50, 75, 85, 95, 90]\n",
            "NEW HIGH SCORE - 500\n",
            "Type Y to play again : N\n"
          ]
        }
      ]
    },
    {
      "cell_type": "markdown",
      "source": [
        "# Group Coding Competition\n",
        "Today, you’ve learned about the following in Python :\n",
        "- printing to the display\n",
        "- variables and casting\n",
        "- user input\n",
        "- comments\n",
        "- mathematical operators\n",
        "- conditional logic\n",
        "- for loops\n",
        "- while loops\n",
        "- working with lists and list comprehension\n",
        "- dictionaries\n",
        "- libraries and imports\n",
        "- the random library\n",
        "\n",
        "Your task now, in groups, is to design and build a computer program that uses some or all of the concepts you’ve learned about today. Your program can do anything you like – be as creative as possible! You will have 40 minutes to design and build your program. Each group will then have 2 minutes to present their program, and a PenCHORD judge will judge the best one. (There’s unfortunately no prize, other than the accolade of winning)"
      ],
      "metadata": {
        "id": "mypX344g4cx_"
      }
    },
    {
      "cell_type": "code",
      "source": [],
      "metadata": {
        "id": "F8v8wK9R4pN4"
      },
      "execution_count": null,
      "outputs": []
    },
    {
      "cell_type": "markdown",
      "source": [
        "#Python Programming Workbook 4\n",
        "You should be completing this workbook as Exercise 1 of HSMA Programme Session 1D - Python Programming Part 2.\n",
        "\n",
        "This is a warm-up task to practice using the skills you developed in the last session. You have been asked to write a program that :\n",
        "\n",
        "- creates a list made up of 100 randomly generated numbers between 0 and 1\n",
        "- extracts all numbers greater than 0.1 or less than 0.9 and puts them in a new trimmed list\n",
        "- adds up the numbers in the trimmed list\n",
        "- if the total is at least 40, displays the message \"At least 40\"; otherwise it displays the message \"Less than 40\"\n",
        "- records whether the total was 40 or more in a dictionary against the run number\n",
        "- repeats the above 100 times (100 runs)\n",
        "- after 100 runs, it reports to the user the % of times the total was 40 or more"
      ],
      "metadata": {
        "id": "VQwvsysz4rnW"
      }
    },
    {
      "cell_type": "markdown",
      "source": [],
      "metadata": {
        "id": "8Zt7IXXDScaA"
      }
    },
    {
      "cell_type": "code",
      "source": [
        "\n"
      ],
      "metadata": {
        "id": "K54Al_Q35LCA"
      },
      "execution_count": null,
      "outputs": []
    },
    {
      "cell_type": "markdown",
      "source": [
        "#Writing Functions\n",
        "As well as the many in-built functions and those in external libraries, we can also write our own functions.\n",
        "\n",
        "Indeed, most programs will (and should) have their own functions, so we don’t have to repeat the same code multiple times.\n",
        "\n",
        "To define a function we use the def command. We specify the function name, the input(s) to the function (if any), and the block of code representing the function’s inner workings. We also usually need to return an output."
      ],
      "metadata": {
        "id": "qDtgwRc75Pyq"
      }
    },
    {
      "cell_type": "markdown",
      "source": [
        "#Function Example\n",
        "Let’s consider an example. Let’s say we want to write a function that takes two numbers, multiplies them together, works out whether the result is higher than 100 and returns a Boolean to indicate this."
      ],
      "metadata": {
        "id": "l5lMr-pw5Zuz"
      }
    },
    {
      "cell_type": "code",
      "source": [
        "def multiply_and_check(number_1, number_2):\n",
        "  result = number_1 * number_2\n",
        "\n",
        "  if result > 100:\n",
        "    return True\n",
        "  else:\n",
        "    return False"
      ],
      "metadata": {
        "id": "dZ7Ww_Zw5gp7"
      },
      "execution_count": null,
      "outputs": []
    },
    {
      "cell_type": "markdown",
      "source": [
        "# Calling a Function\n",
        "Now we’ve written our function, we can call it at any time in our program. We need to ensure we give it the inputs it is expecting (in this case two inputs) and store the output of the function appropriately.\n",
        "**You must define the function before calling it!**\n",
        "\n",
        "Note : The names of the inputs when function is called don’t have to match those used in the function\n",
        "definition"
      ],
      "metadata": {
        "id": "bnnewl3R5ydj"
      }
    },
    {
      "cell_type": "code",
      "source": [
        "def multiply_and_check(number_1, number_2):\n",
        "  result = number_1 * number_2\n",
        "\n",
        "  if result > 100:\n",
        "    return True\n",
        "  else:\n",
        "    return False\n",
        "\n",
        "user_input_1 = int(input(\"Enter number 1:\"))\n",
        "user_input_2 = int(input(\"Enter number 2:\"))\n",
        "\n",
        "is_result_over_100 = multiply_and_check(user_input_1, user_input_2)\n",
        "\n",
        "if is_result_over_100 == True:\n",
        "  print (\"I knew you'd think of big numbers!\")\n",
        "  #else:\n",
        "   # print (is_result_over_100)\n"
      ],
      "metadata": {
        "colab": {
          "base_uri": "https://localhost:8080/",
          "height": 397
        },
        "id": "C0G8M_wK5_Xp",
        "outputId": "df9d0bc3-4605-48df-dfe9-cb2f4f14dd28"
      },
      "execution_count": null,
      "outputs": [
        {
          "output_type": "error",
          "ename": "KeyboardInterrupt",
          "evalue": "ignored",
          "traceback": [
            "\u001b[0;31m---------------------------------------------------------------------------\u001b[0m",
            "\u001b[0;31mKeyboardInterrupt\u001b[0m                         Traceback (most recent call last)",
            "\u001b[0;32m<ipython-input-65-d92649e02ee8>\u001b[0m in \u001b[0;36m<module>\u001b[0;34m\u001b[0m\n\u001b[1;32m      7\u001b[0m     \u001b[0;32mreturn\u001b[0m \u001b[0;32mFalse\u001b[0m\u001b[0;34m\u001b[0m\u001b[0;34m\u001b[0m\u001b[0m\n\u001b[1;32m      8\u001b[0m \u001b[0;34m\u001b[0m\u001b[0m\n\u001b[0;32m----> 9\u001b[0;31m \u001b[0muser_input_1\u001b[0m \u001b[0;34m=\u001b[0m \u001b[0mint\u001b[0m\u001b[0;34m(\u001b[0m\u001b[0minput\u001b[0m\u001b[0;34m(\u001b[0m\u001b[0;34m\"Enter number 1:\"\u001b[0m\u001b[0;34m)\u001b[0m\u001b[0;34m)\u001b[0m\u001b[0;34m\u001b[0m\u001b[0;34m\u001b[0m\u001b[0m\n\u001b[0m\u001b[1;32m     10\u001b[0m \u001b[0muser_input_2\u001b[0m \u001b[0;34m=\u001b[0m \u001b[0mint\u001b[0m\u001b[0;34m(\u001b[0m\u001b[0minput\u001b[0m\u001b[0;34m(\u001b[0m\u001b[0;34m\"Enter number 2:\"\u001b[0m\u001b[0;34m)\u001b[0m\u001b[0;34m)\u001b[0m\u001b[0;34m\u001b[0m\u001b[0;34m\u001b[0m\u001b[0m\n\u001b[1;32m     11\u001b[0m \u001b[0;34m\u001b[0m\u001b[0m\n",
            "\u001b[0;32m/usr/local/lib/python3.8/dist-packages/ipykernel/kernelbase.py\u001b[0m in \u001b[0;36mraw_input\u001b[0;34m(self, prompt)\u001b[0m\n\u001b[1;32m    858\u001b[0m                 \u001b[0;34m\"raw_input was called, but this frontend does not support input requests.\"\u001b[0m\u001b[0;34m\u001b[0m\u001b[0;34m\u001b[0m\u001b[0m\n\u001b[1;32m    859\u001b[0m             )\n\u001b[0;32m--> 860\u001b[0;31m         return self._input_request(str(prompt),\n\u001b[0m\u001b[1;32m    861\u001b[0m             \u001b[0mself\u001b[0m\u001b[0;34m.\u001b[0m\u001b[0m_parent_ident\u001b[0m\u001b[0;34m,\u001b[0m\u001b[0;34m\u001b[0m\u001b[0;34m\u001b[0m\u001b[0m\n\u001b[1;32m    862\u001b[0m             \u001b[0mself\u001b[0m\u001b[0;34m.\u001b[0m\u001b[0m_parent_header\u001b[0m\u001b[0;34m,\u001b[0m\u001b[0;34m\u001b[0m\u001b[0;34m\u001b[0m\u001b[0m\n",
            "\u001b[0;32m/usr/local/lib/python3.8/dist-packages/ipykernel/kernelbase.py\u001b[0m in \u001b[0;36m_input_request\u001b[0;34m(self, prompt, ident, parent, password)\u001b[0m\n\u001b[1;32m    902\u001b[0m             \u001b[0;32mexcept\u001b[0m \u001b[0mKeyboardInterrupt\u001b[0m\u001b[0;34m:\u001b[0m\u001b[0;34m\u001b[0m\u001b[0;34m\u001b[0m\u001b[0m\n\u001b[1;32m    903\u001b[0m                 \u001b[0;31m# re-raise KeyboardInterrupt, to truncate traceback\u001b[0m\u001b[0;34m\u001b[0m\u001b[0;34m\u001b[0m\u001b[0;34m\u001b[0m\u001b[0m\n\u001b[0;32m--> 904\u001b[0;31m                 \u001b[0;32mraise\u001b[0m \u001b[0mKeyboardInterrupt\u001b[0m\u001b[0;34m(\u001b[0m\u001b[0;34m\"Interrupted by user\"\u001b[0m\u001b[0;34m)\u001b[0m \u001b[0;32mfrom\u001b[0m \u001b[0;32mNone\u001b[0m\u001b[0;34m\u001b[0m\u001b[0;34m\u001b[0m\u001b[0m\n\u001b[0m\u001b[1;32m    905\u001b[0m             \u001b[0;32mexcept\u001b[0m \u001b[0mException\u001b[0m \u001b[0;32mas\u001b[0m \u001b[0me\u001b[0m\u001b[0;34m:\u001b[0m\u001b[0;34m\u001b[0m\u001b[0;34m\u001b[0m\u001b[0m\n\u001b[1;32m    906\u001b[0m                 \u001b[0mself\u001b[0m\u001b[0;34m.\u001b[0m\u001b[0mlog\u001b[0m\u001b[0;34m.\u001b[0m\u001b[0mwarning\u001b[0m\u001b[0;34m(\u001b[0m\u001b[0;34m\"Invalid Message:\"\u001b[0m\u001b[0;34m,\u001b[0m \u001b[0mexc_info\u001b[0m\u001b[0;34m=\u001b[0m\u001b[0;32mTrue\u001b[0m\u001b[0;34m)\u001b[0m\u001b[0;34m\u001b[0m\u001b[0;34m\u001b[0m\u001b[0m\n",
            "\u001b[0;31mKeyboardInterrupt\u001b[0m: Interrupted by user"
          ]
        }
      ]
    },
    {
      "cell_type": "code",
      "source": [
        "import random \n",
        "input_1 = random.randint(1, 10)\n",
        "input_2 = random.randint(1, 10)\n",
        "\n",
        "print(input_1, input_2)\n",
        "\n",
        "def multiply_two_figures (input_1, input_2):\n",
        "    result = input_1 * input_2\n",
        "    print (multiply_two_figures)"
      ],
      "metadata": {
        "colab": {
          "base_uri": "https://localhost:8080/"
        },
        "id": "PRejotZOphj_",
        "outputId": "7b893757-1d9f-4c2b-9e49-35e884b6ec94"
      },
      "execution_count": null,
      "outputs": [
        {
          "output_type": "stream",
          "name": "stdout",
          "text": [
            "3 2\n"
          ]
        }
      ]
    },
    {
      "cell_type": "markdown",
      "source": [
        "#Try and Except\n",
        "Sometimes, things in our program won’t work as\n",
        "intended. For example, in our previous example,\n",
        "if the user inputs something other than an integer\n",
        "(e.g. some text that can’t be converted to an\n",
        "Integer), Python will return an error and terminate\n",
        "the program when it runs this :"
      ],
      "metadata": {
        "id": "0F1EYPFC6vHd"
      }
    },
    {
      "cell_type": "code",
      "source": [
        "user_input_1 = int(input(\"Enter number 1:\"))\n",
        "user_input_2 = int(input(\"Enter number 2:\"))"
      ],
      "metadata": {
        "id": "-KcOoHXZ6ytj"
      },
      "execution_count": null,
      "outputs": []
    },
    {
      "cell_type": "markdown",
      "source": [
        "But that’s messy. It would be far better to catch\n",
        "the error and deal with it. One way to do this is to\n",
        "use try and except.\n",
        "\n",
        "A try and except statement is the most general way to handle errors in\n",
        "our Python code. It instructs Python to try a block of code, and if it runs\n",
        "into any problems, to run the block of code specified in except."
      ],
      "metadata": {
        "id": "Nzk_XLfj61_a"
      }
    },
    {
      "cell_type": "code",
      "source": [
        "import random\n",
        "\n",
        "def multiply_and_check(number_1, number_2):\n",
        "  result = number_1 * number_2\n",
        "\n",
        "  if result > 100:\n",
        "    return True\n",
        "  else:\n",
        "    return False\n",
        "\n",
        "try:\n",
        "  user_input_1 = int(input(\"Enter number 1:\"))\n",
        "except:\n",
        "  print (\"Sorry, you didnt input an integer\")\n",
        "  print (\"We'll use a random integer instead\")\n",
        "  user_input_1 = random.randint(1,1000)\n",
        "  print (f\"Let's use {user_input_1}\")\n",
        "\n",
        "try:\n",
        "  user_input_2 = int(input(\"Enter number 2:\"))\n",
        "except:\n",
        "  print (\"Sorry, you didnt input an integer\")\n",
        "  print (\"We'll use a random integer instead\")\n",
        "  user_input_2 = random.randint(1,1000)\n",
        "  print (f\"Let's use {user_input_2}\")\n",
        "\n",
        "is_result_over_100 = multiply_and_check(user_input_1, user_input_2)\n",
        "\n",
        "if is_result_over_100 == True:\n",
        "  print(\"I knew you'd think of big numbers!\")"
      ],
      "metadata": {
        "colab": {
          "base_uri": "https://localhost:8080/"
        },
        "id": "LINLyPVH667Z",
        "outputId": "b0ec044c-36d1-4354-d277-84cce1ccd56a"
      },
      "execution_count": null,
      "outputs": [
        {
          "output_type": "stream",
          "name": "stdout",
          "text": [
            "Enter number 1:cat\n",
            "Sorry, you didnt input an integer\n",
            "We'll use a random integer instead\n",
            "Let's use 677\n",
            "Enter number 2:dog\n",
            "Sorry, you didnt input an integer\n",
            "We'll use a random integer instead\n",
            "Let's use 39\n",
            "I knew you'd think of big numbers!\n"
          ]
        }
      ]
    },
    {
      "cell_type": "markdown",
      "source": [
        "# Else and Finally\n",
        "We can add to a try except statement by using else and finally."
      ],
      "metadata": {
        "id": "XQ1ILe3wNwm2"
      }
    },
    {
      "cell_type": "code",
      "source": [
        "try:\n",
        "  # try this code\n",
        "\n",
        "except:\n",
        "  # run this if an error (exception) occurs\n",
        "\n",
        "else:\n",
        "  # run this only if you didnt get any exceptions\n",
        "\n",
        "finally:\n",
        "  # run this regardless of whether or not there were exceptions"
      ],
      "metadata": {
        "id": "rLt50Zd0N0Q-"
      },
      "execution_count": null,
      "outputs": []
    },
    {
      "cell_type": "markdown",
      "source": [
        "# Python Programming Workbook 5\n",
        "You should be completing this workbook as Exercise 2 of HSMA Programme Session 1D - Python Programming Part 2.\n",
        "\n",
        "Task 1 Write a function that takes as its inputs two lists of any size, and then compares them to see how many common elements they have (ie how many things in one list are also in the other), and returns this number. Try the function out by calling it with two lists (try playing with various number of common elements to test it), and after the function is called, print a message that confirms how many elements are common to both lists. You should add exception handling such that if anything other than two lists are passed to the function, a message appears saying that something went wrong, and the message about the number of common elements is never displayed. Test the error handling by trying to pass something other than two lists (e.g. one list, three lists, an integer etc)."
      ],
      "metadata": {
        "id": "SAiwwR4OSeNh"
      }
    },
    {
      "cell_type": "code",
      "source": [
        "    def compare_lists(list_a, list_b):\n",
        "      try:\n",
        "        common_element_count = 0\n",
        "    \n",
        "        for element in list_a:\n",
        "          if element in list_b:\n",
        "            common_element_count += 1\n",
        "  \n",
        "        return common_element_count\n",
        "      except:\n",
        "        print (\"I can't work with these inputs\")\n",
        "    \n",
        "    my_first_list = [1,22,7,\"Dan\",\"Mike\",\"Kerry\",\"Alison\",65421,71]\n",
        "    my_second_list = [3,8,1,\"Mike\",\"Tom\",\"Sean\"]\n",
        "    \n",
        "    try:\n",
        "      number_of_common_elements = compare_lists(my_first_list, my_second_list)\n",
        "      print (f\"There are {number_of_common_elements} elements in common\")\n",
        "    except:\n",
        "      print (\"Error - you need to pass in two lists\")"
      ],
      "metadata": {
        "colab": {
          "base_uri": "https://localhost:8080/"
        },
        "id": "z3OWH9XhSjN0",
        "outputId": "3c9cf57e-8bc9-4c69-b1ea-6d73d6c6bd29"
      },
      "execution_count": null,
      "outputs": [
        {
          "output_type": "stream",
          "name": "stdout",
          "text": [
            "There are 2 elements in common\n"
          ]
        }
      ]
    },
    {
      "cell_type": "markdown",
      "source": [
        "Task 2 Write a function that asks the user to input five integers, and adds them to a list, which is returned. Then call the function you wrote in Task 1, using the returned list as a replacement for one of the lists you used above, to see how many elements from the user input list are also in the other list. You should put exception handling around the user input so that if the user inputs anything other than an integer a message is displayed telling them it must be an integer, and they are asked to input again (the code should only proceed to ask for the next input once the user hass input an integer)."
      ],
      "metadata": {
        "id": "KyxGCTLETTGf"
      }
    },
    {
      "cell_type": "code",
      "source": [
        "def get_user_list():\n",
        "  print (\"I'm going to ask you to input five integers\")\n",
        "  user_list = []\n",
        "\n",
        "  for x in range(5):\n",
        "    valid_input = False\n",
        "    \n",
        "    while valid_input == False:\n",
        "      try:\n",
        "        user_list.append(int(input(\"Please enter an integer : \")))\n",
        "        valid_input = True\n",
        "        print (f\"Input {x+1} accepted.\")\n",
        "      except:\n",
        "        print (\"Error - must be an integer.  Please try again.\")\n",
        "  return user_list\n",
        "    \n",
        "user_list = get_user_list()\n",
        "    \n",
        "try:\n",
        "  number_of_common_elements = compare_lists(my_first_list, user_list)\n",
        "  print (f\"There are {number_of_common_elements} elements in common\")\n",
        "except:\n",
        "  print (\"Error - you need to pass in two lists\")"
      ],
      "metadata": {
        "colab": {
          "base_uri": "https://localhost:8080/"
        },
        "id": "1KGkpwsOTUM0",
        "outputId": "6a0edc81-9557-4eb6-d1a4-c4122fa9b31f"
      },
      "execution_count": null,
      "outputs": [
        {
          "output_type": "stream",
          "name": "stdout",
          "text": [
            "I'm going to ask you to input five integers\n",
            "Please enter an integer : 25\n",
            "Input 1 accepted.\n",
            "Please enter an integer : 5\n",
            "Input 2 accepted.\n",
            "Please enter an integer : 3\n",
            "Input 3 accepted.\n",
            "Please enter an integer : 1\n",
            "Input 4 accepted.\n",
            "Please enter an integer : 4\n",
            "Input 5 accepted.\n",
            "There are 1 elements in common\n"
          ]
        }
      ]
    },
    {
      "cell_type": "markdown",
      "source": [
        "# Reading and Writing Files\n",
        "In practice, we often want to read in data from\n",
        "files (as our input data) and write data to files (as\n",
        "our output data).\n",
        "For example, we may have a file that contains the\n",
        "input parameters for our model, and we want to\n",
        "write the results of the model to file once it’s run.\n",
        "Python has a number of methods for doing this.\n",
        "\n",
        "#Opening and Closing Files\n",
        "Whenever we read and write files, we first need to open a file (even if it doesn’t yet exist), and then close it once we’re finished reading or writing (this is important).\n",
        "\n",
        "To open a file :\n",
        "\n",
        "f = open(\"filename.txt\", \"r\")\n",
        "\n",
        "We can now refer to the file by using f.\n",
        "\n",
        "The “r” argument in the open function means “open file in read-only mode”. Here are all the different access modes for the open function...\n",
        "\n",
        "#Open File Access Modes\n",
        "- “r” read only, start at beginning of file\n",
        "- “rb” read only, binary format (usually for images, video), start at beginning of file\n",
        "- “r+” read and write, start at beginning of file\n",
        "- “rb+” read and write, binary mode, start at beginning of file\n",
        "- “w” write only, start at beginning of file\n",
        "- “wb”, write only, binary format, start at beginning of file\n",
        "- “w+” write and read, start at beginning of file\n",
        "- “wb+” write and read, binary format, start at beginning\n",
        "- “a” append mode (start at end of file)\n",
        "- “ab” append mode, binary mode\n",
        "- “a+” append and read\n",
        "- “ab+” append and read, binary mode\n",
        "\n",
        "The “w...” and “a...” modes will create the file if it doesn’t exist.\n",
        "\n",
        "#Closing Files\n",
        "Once we’ve finished reading from and writing to a file, we need to close it.\n",
        "\n",
        "This is very important – if we don’t do this, very odd things will happen…"
      ],
      "metadata": {
        "id": "plghgziyUUN9"
      }
    },
    {
      "cell_type": "code",
      "source": [
        "# Open file\n",
        "\n",
        "f = open(\"filename.txt\", \"r\")\n",
        "\n",
        "# read what we need from our file\n",
        "\n",
        "# close file\n",
        "f.close()\n",
        "\n",
        "# or we can use the statement to only hold the file\n",
        "# open whilst we do the actions in the indented block.\n",
        "# after which the file will automatically close\n",
        "\n",
        "with open(\"filename.txt\", \"r\") as f:\n",
        "  # read what we need from our file"
      ],
      "metadata": {
        "id": "Ic4NXTlpU8nI"
      },
      "execution_count": null,
      "outputs": []
    },
    {
      "cell_type": "markdown",
      "source": [
        "# Reading Files Line by Line\n",
        "Reading an entire file in one go isn’t always useful.\n",
        "Usually, we would want to read in each line of the file one by one, and store them separately, in a list for example.\n",
        "We can use the readlines() function to do this. This\n",
        "function returns a list of the lines in a file."
      ],
      "metadata": {
        "id": "vrFFWG9PVchH"
      }
    },
    {
      "cell_type": "code",
      "source": [
        "with open(\"filename.txt\", \"r\") as f:\n",
        "  list_of_lines = f.readlines()"
      ],
      "metadata": {
        "id": "UoF4i_CUVgdZ"
      },
      "execution_count": null,
      "outputs": []
    },
    {
      "cell_type": "markdown",
      "source": [
        "# CSV Files\n",
        "In practice, we often want our input (and output) files to be in comma separated values (.csv) format. Data in spreadsheets can be easily exported to .csv.\n",
        "\n",
        "Example of .csv format :\n",
        "John, 28, Plymouth,\n",
        "Mary, 56, Exeter,\n",
        "Bob, 37, Truro,\n",
        "\n",
        ".csv format is useful, because our data is often separated into different fields (columns) and records (rows).\n",
        "\n",
        "# Reading CSV Files\n",
        "We can import a library called csv that allows us to easily read and write csv files :"
      ],
      "metadata": {
        "id": "100ZEvQQVqFy"
      }
    },
    {
      "cell_type": "code",
      "source": [
        "import csv # import csv library\n",
        "\n",
        "list_of_names = []\n",
        "list_of_ages []\n",
        "list_of_locations = []\n",
        "\n",
        "with open(\"filename.txt\", \"r\") as f:\n",
        "  # create a csv object that reads the file with comma delimiters\n",
        "  reader = csv.reader(f, delimiter=\",\")\n",
        "\n",
        "  # for each row (line) in the csv file\n",
        "  for row in reader:\n",
        "    # add the first value before a comma to the o;ist of names\n",
        "    list_of_names.append(row[0])\n",
        "    # add the second value to the list of ages\n",
        "    list_of_ages.append(row[1])\n",
        "    # add the third value to the list of locations\n",
        "    list_of_locations.append(row[2])"
      ],
      "metadata": {
        "colab": {
          "base_uri": "https://localhost:8080/",
          "height": 130
        },
        "id": "EN-GwbTwV1T1",
        "outputId": "a05fa29e-9aec-4704-bc7f-40655a0e71a4"
      },
      "execution_count": null,
      "outputs": [
        {
          "output_type": "error",
          "ename": "SyntaxError",
          "evalue": "ignored",
          "traceback": [
            "\u001b[0;36m  File \u001b[0;32m\"<ipython-input-71-27923ff9a04b>\"\u001b[0;36m, line \u001b[0;32m4\u001b[0m\n\u001b[0;31m    list_of_ages []\u001b[0m\n\u001b[0m                  ^\u001b[0m\n\u001b[0;31mSyntaxError\u001b[0m\u001b[0;31m:\u001b[0m invalid syntax\n"
          ]
        }
      ]
    },
    {
      "cell_type": "markdown",
      "source": [
        "# Writing CSV Files"
      ],
      "metadata": {
        "id": "6-eXSlzMWota"
      }
    },
    {
      "cell_type": "code",
      "source": [
        "# writing csv files is easy with the csv library too!\n",
        "\n",
        "import csv\n",
        "\n",
        "# lets say we have some lists we want to write to file\n",
        "list_of_trainers = [\"Dan\", \"Kerry\", \"Sean\", \"Tom\"]\n",
        "list_of_numbers = [1,2,3,4]\n",
        "list_of_lists = [list_of_trainers, list_of_numbers]\n",
        "\n",
        "with open(\"filename.txt\", \"w\") as f: \n",
        "  #create a csv writer object that writes a csv file with comma delimiters\n",
        "  writer = csv.writer(f, dlimiter=\",\")\n",
        "\n",
        "  #write a row for each of our lists\n",
        "  for sublist in list_of_lists\n",
        "    writer.writerow(sublist)\n",
        "    "
      ],
      "metadata": {
        "id": "T-GPgq_uW_Fz"
      },
      "execution_count": null,
      "outputs": []
    },
    {
      "cell_type": "markdown",
      "source": [
        "# Exercise 3\n",
        "You have been given a file (input_data.csv) that contains a dataset of fabricated patient\n",
        "data. The data contains a number of patient records, and each record consists of the\n",
        "patient’s first name, whether they’ve received a flu vaccine this year or not, their age and\n",
        "the county in which they live.\n",
        "\n",
        "You have been asked to write a program that does the following (recommend you use Spyder for this exercise, to avoid any file input / output issues) :\n",
        "\n",
        "- 1) Reads in the patient data file, and stores the four different fields in four different lists.\n",
        "- 2) Calculates the number of patient records that have been read in, and prints a message\n",
        "informing the user how many records have been read.\n",
        "- 3) Calculates the average age of patients in the data and prints a message to the user\n",
        "informing them of the average age (to 2 d.p.)\n",
        "- 4) Calculates how many patients live in each of the three counties in the data, and\n",
        "displays the results.\n",
        "- 5) Calculates the % split between vaccinated and unvaccinated patients in the data, and\n",
        "displays this result to the user (to 2 d.p.).\n",
        "- 6) Writes the results of 2-5 above to a file called “results.csv”, with the first row indicating\n",
        "the name (column header) of the result (Number of records, Average age, Number in\n",
        "Cornwall etc), and the second row the results themselves.\n",
        "\n",
        "###File Reading and Writing Exercise\n",
        "EXTRA INFO :\n",
        "The function sum(x) takes the sum of x, where x is an\n",
        "iterable object, such as a list.\n",
        "\n",
        "The function round(x, y) rounds x to y decimal places.\n",
        "\n",
        "You should be able to complete the exercise using the\n",
        "information above and what you have been taught so far.\n",
        "\n",
        "You have 45 minutes, and you should work together in\n",
        "your groups.\n",
        "\n"
      ],
      "metadata": {
        "id": "hT21OKfsXul8"
      }
    },
    {
      "cell_type": "code",
      "source": [
        "# Import the csv library\n",
        "import csv\n",
        "\n",
        "list_of_names = []\n",
        "list_of_vacc = []\n",
        "list_of_ages = []\n",
        "list_of_counties = []\n",
        "\n",
        "# Read the file and put each data value in each row in the appropriate list\n",
        "with open(\"input_data.csv\", \"r\") as f:\n",
        "    reader = csv.reader(f, delimiter=\",\")\n",
        "\n",
        "    for row in reader:\n",
        "        list_of_names.append(row[0])\n",
        "        list_of_vacc.append(row[1])\n",
        "        list_of_ages.append(int(row[2]))\n",
        "        list_of_counties.append(row[3])\n",
        "\n",
        "# Take the length of the list of names to find how many records read in\n",
        "number_of_patient_records = len(list_of_names)\n",
        "print(f\"{number_of_patient_records} records read in.\")\n",
        "\n",
        "# Calculate the mean age and round to 2 dp\n",
        "average_age = sum(list_of_ages) / len(list_of_ages)\n",
        "average_age = round(average_age, 2)\n",
        "print(f\"Average age of patients is {average_age}.\")\n",
        "\n",
        "number_in_Cornwall = 0\n",
        "number_in_Devon = 0\n",
        "number_in_Somerset = 0\n",
        "\n",
        "# Count up the records for each county\n",
        "for county in list_of_counties:\n",
        "    if county == \"Cornwall\":\n",
        "        number_in_Cornwall += 1\n",
        "    elif county == \"Devon\":\n",
        "        number_in_Devon += 1\n",
        "    elif county == \"Somerset\":\n",
        "        number_in_Somerset += 1\n",
        "\n",
        "print(f\"Patients living in Cornwall : {number_in_Cornwall}\")\n",
        "print(f\"Patients living in Devon    : {number_in_Devon}\")\n",
        "print(f\"Patients living in Somerset : {number_in_Somerset}\")\n",
        "\n",
        "number_vacc = 0\n",
        "number_unvacc = 0\n",
        "\n",
        "# Count the number of vaccinated and unvaccinated, and then calculate the % \n",
        "# split and round to 2 dp\n",
        "for vacc_status in list_of_vacc:\n",
        "    if vacc_status == \"Yes\":\n",
        "        number_vacc += 1\n",
        "    elif vacc_status == \"No\":\n",
        "        number_unvacc += 1\n",
        "\n",
        "percentage_vacc = (number_vacc / (number_vacc + number_unvacc)) * 100\n",
        "percentage_vacc = round(percentage_vacc, 2)\n",
        "percentage_unvacc = 100 - percentage_vacc\n",
        "percentage_unvacc = round(percentage_unvacc, 2)\n",
        "\n",
        "print(f\"{percentage_vacc}% of patients are vaccinated\")\n",
        "print(f\"{percentage_unvacc}% of patients are unvaccinated\")\n",
        "\n",
        "# Set up lists ready for writing to csv\n",
        "list_of_column_names = [\"Number of Records\", \n",
        "                        \"Mean Age\", \n",
        "                        \"No. in Cornwall\",\n",
        "                        \"No. in Devon\", \n",
        "                        \"No. in Somerset\", \n",
        "                        \"% Vaccinated\",\n",
        "                        \"% Unvaccinated\"]\n",
        "list_of_results = [number_of_patient_records,\n",
        "                   average_age,\n",
        "                   number_in_Cornwall,\n",
        "                   number_in_Devon,\n",
        "                   number_in_Somerset,\n",
        "                   percentage_vacc,\n",
        "                   percentage_unvacc]\n",
        "\n",
        "list_of_lists_to_write = [list_of_column_names, list_of_results]\n",
        "\n",
        "# Write results to csv file\n",
        "with open(\"results.csv\", \"w\") as f:\n",
        "    writer = csv.writer(f, delimiter=\",\")\n",
        "\n",
        "    for sublist in list_of_lists_to_write:\n",
        "        writer.writerow(sublist)"
      ],
      "metadata": {
        "id": "B_Xn0KtMYUWX"
      },
      "execution_count": null,
      "outputs": []
    },
    {
      "cell_type": "markdown",
      "source": [
        "#NumPy\n",
        "NumPy is an important Python library for scientific\n",
        "computing.\n",
        "\n",
        "It provides a number of features, and key amongst\n",
        "them is the ability to easily work with large multidimensional\n",
        "arrays **MUCH more efficiently**\n",
        "(computationally).\n",
        "\n",
        "Because of this, NumPy is particularly important\n",
        "when working in Machine Learning (as you’ll see\n",
        "later in the course).\n",
        "\n",
        "##Getting started with NumPy\n",
        "NumPy is included in many scientific distributions\n",
        "of Python, such as the Anaconda distribution you\n",
        "have installed.\n",
        "\n",
        "Therefore in order to work with it in our code, we\n",
        "just need to import the library. Convention\n",
        "dictates that we import the library with the alias\n",
        "“np”, so that we refer to NumPy as “np” in the rest\n",
        "of our code :"
      ],
      "metadata": {
        "id": "4Irt6JdvYWDO"
      }
    },
    {
      "cell_type": "code",
      "source": [
        "import numpy as np"
      ],
      "metadata": {
        "id": "L9k8yipiYjfZ"
      },
      "execution_count": null,
      "outputs": []
    },
    {
      "cell_type": "markdown",
      "source": [
        "##The NumPy Multidimensional Array\n",
        "The main object in NumPy is the multidimensional\n",
        "array. As with most things in life, things are\n",
        "always better in multiple dimensions!\n",
        "\n",
        "Before we go any further, let’s explain what we\n",
        "mean by a multidimensional array.\n",
        "\n",
        "Here’s a one dimensional (1D) array :\n",
        "\n",
        "[1, 2, 3]\n",
        "\n",
        "Here’s a two dimensional (2D) array (an array within an array) :\n",
        "\n",
        "[ [1, 2, 3],\n",
        "[4, 5, 6],\n",
        "[7, 8, 9] ]\n",
        "\n",
        "Here’s a three dimensional (3D) array\n",
        "\n",
        "(an array within an array within an array) :\n",
        "\n",
        "[ [ [1, 2, 3], [4, 5, 6], [7, 8, 9] ],\n",
        "[ [10, 20, 30], [40, 50, 60], [70, 80, 90] ],\n",
        "[ [100, 200, 300], [400, 500, 600], [700, 800, 900] ] ]\n",
        "\n",
        "Dimensions in NumPy array are referred to as axes.\n",
        "\n",
        "###1D Array Practical Example :\n",
        "\n",
        "List of ages : 32, 71, 56, 54, 28\n",
        "\n",
        "[32, 71, 56, 54, 28]\n",
        "\n",
        "###2D Array Practical Example :\n",
        "\n",
        "List of ages for each group :\n",
        "\n",
        "Group 1 : 32, 71, 56, 54, 28\n",
        "Group 2 : 17, 28, 22, 18, 56\n",
        "Group 3 : 98, 88, 10, 12, 5\n",
        "\n",
        "[ [32, 71, 56, 54, 28],\n",
        "[17, 28, 22, 18, 56],\n",
        "[98, 88, 10, 12, 5] ]\n",
        "\n",
        "###3D Array Practical Example :\n",
        "\n",
        "List of ages for each group within each department :\n",
        "\n",
        "Department 1\n",
        "\n",
        "Group 1 : 32, 71, 56, 54, 28\n",
        "Group 2 : 17, 28, 22, 18, 56\n",
        "Group 3 : 98, 88, 10, 12, 5\n",
        "\n",
        "Department 2\n",
        "\n",
        "Group 1 : 8, 9, 15, 16, 23\n",
        "Group 2 : 21, 37, 45, 42, 46\n",
        "Group 3 : 51, 67, 16, 16, 21\n",
        "\n",
        "[ [ [32, 71, 56, 54, 28], [17, 28, 22, 18, 56], [98, 88, 10, 12, 5] ],\n",
        "[ [8, 9, 15, 16, 23], [21, 37, 45, 42, 46], [51, 67, 16, 16, 21] ] ]\n",
        "\n",
        "#Declaring a NumPy Array\n",
        "Declaring a NumPy array is easy :"
      ],
      "metadata": {
        "id": "_AUj5wKnYmxH"
      }
    },
    {
      "cell_type": "code",
      "source": [
        "import numpy as np\n",
        "\n",
        "a = np.array([1,2,3,4,5])\n"
      ],
      "metadata": {
        "id": "kiq5-iqcZGUM"
      },
      "execution_count": null,
      "outputs": []
    },
    {
      "cell_type": "markdown",
      "source": [
        "a is now stored as a NumPy array. In practice, for 2D+ arrays, we often\n",
        "want to read in a series of lists to form a NumPy array. This is easy too :"
      ],
      "metadata": {
        "id": "-yfO17GgZLTY"
      }
    },
    {
      "cell_type": "code",
      "source": [
        "list_1 = [1,2,3,4,5]\n",
        "list_2 = [2,4,5,8,10]\n",
        "list_3 = [3,6,9,12,15]\n",
        "\n",
        "a = np.array[list_1,list_2, list_3]\n",
        "print(a)\n"
      ],
      "metadata": {
        "colab": {
          "base_uri": "https://localhost:8080/",
          "height": 217
        },
        "id": "35juyOspZNE5",
        "outputId": "40597f40-d723-4b6d-adaf-2eeb02ed807f"
      },
      "execution_count": null,
      "outputs": [
        {
          "output_type": "error",
          "ename": "NameError",
          "evalue": "ignored",
          "traceback": [
            "\u001b[0;31m---------------------------------------------------------------------------\u001b[0m",
            "\u001b[0;31mNameError\u001b[0m                                 Traceback (most recent call last)",
            "\u001b[0;32m<ipython-input-72-78e64af2c156>\u001b[0m in \u001b[0;36m<module>\u001b[0;34m\u001b[0m\n\u001b[1;32m      3\u001b[0m \u001b[0mlist_3\u001b[0m \u001b[0;34m=\u001b[0m \u001b[0;34m[\u001b[0m\u001b[0;36m3\u001b[0m\u001b[0;34m,\u001b[0m\u001b[0;36m6\u001b[0m\u001b[0;34m,\u001b[0m\u001b[0;36m9\u001b[0m\u001b[0;34m,\u001b[0m\u001b[0;36m12\u001b[0m\u001b[0;34m,\u001b[0m\u001b[0;36m15\u001b[0m\u001b[0;34m]\u001b[0m\u001b[0;34m\u001b[0m\u001b[0;34m\u001b[0m\u001b[0m\n\u001b[1;32m      4\u001b[0m \u001b[0;34m\u001b[0m\u001b[0m\n\u001b[0;32m----> 5\u001b[0;31m \u001b[0ma\u001b[0m \u001b[0;34m=\u001b[0m \u001b[0mnp\u001b[0m\u001b[0;34m.\u001b[0m\u001b[0marray\u001b[0m\u001b[0;34m[\u001b[0m\u001b[0mlist_1\u001b[0m\u001b[0;34m,\u001b[0m\u001b[0mlist_2\u001b[0m\u001b[0;34m,\u001b[0m \u001b[0mlist_3\u001b[0m\u001b[0;34m]\u001b[0m\u001b[0;34m\u001b[0m\u001b[0;34m\u001b[0m\u001b[0m\n\u001b[0m\u001b[1;32m      6\u001b[0m \u001b[0mprint\u001b[0m\u001b[0;34m(\u001b[0m\u001b[0ma\u001b[0m\u001b[0;34m)\u001b[0m\u001b[0;34m\u001b[0m\u001b[0;34m\u001b[0m\u001b[0m\n",
            "\u001b[0;31mNameError\u001b[0m: name 'np' is not defined"
          ]
        }
      ]
    },
    {
      "cell_type": "markdown",
      "source": [
        "#shape\n",
        "We can use the shape function to find the shape of a NumPy array, in terms of the number of dimensions (if 2 or more), and the number of elements per dimension.\n",
        "\n",
        "In a 1D array this give us the number of elements in the array :"
      ],
      "metadata": {
        "id": "il0LW7eqZcDG"
      }
    },
    {
      "cell_type": "code",
      "source": [
        "a = np.array([1,2,3])\n",
        "print (a.shape)"
      ],
      "metadata": {
        "id": "Be0fFvSuZiB_"
      },
      "execution_count": null,
      "outputs": []
    },
    {
      "cell_type": "markdown",
      "source": [
        "result will be (3,)\n",
        "e.g. list of three age values"
      ],
      "metadata": {
        "id": "V13fIML3Zo7T"
      }
    },
    {
      "cell_type": "markdown",
      "source": [
        "In a 2D+ array this give us the number of rows and columns in\n",
        "multi-dimensional space"
      ],
      "metadata": {
        "id": "Y4IMgNyeZoMm"
      }
    },
    {
      "cell_type": "code",
      "source": [
        "a = np.array([[1,2,3],[4,5,6]])\n",
        "print (a.shape)"
      ],
      "metadata": {
        "id": "ToNL2X2sZvMy"
      },
      "execution_count": null,
      "outputs": []
    },
    {
      "cell_type": "markdown",
      "source": [
        "result will be (2,3) e.g. two groups of three age values"
      ],
      "metadata": {
        "id": "c87-Lsb-Z147"
      }
    },
    {
      "cell_type": "code",
      "source": [
        "a = np.array([[[1,2,3],[4,5,6]],\n",
        "              [[10,20,30], 40, 50, 60]]])\n",
        "print (a.shape)"
      ],
      "metadata": {
        "id": "u97_G6M4Z6e4"
      },
      "execution_count": null,
      "outputs": []
    },
    {
      "cell_type": "markdown",
      "source": [
        "result will be (2, 2, 3) e.g. two departments with\n",
        "two groups, each with three age values"
      ],
      "metadata": {
        "id": "7B1a5mikaGQ6"
      }
    },
    {
      "cell_type": "markdown",
      "source": [
        "# ndim\n",
        "We can use the ndim function to find out the\n",
        "number of dimensions / axes in our array."
      ],
      "metadata": {
        "id": "tmTz68TiaRCK"
      }
    },
    {
      "cell_type": "code",
      "source": [
        "c = np.array([[[1,2,3],[4,5,6]],\n",
        "              [[10,20,30], 40, 50, 60]]])\n",
        "print (c.ndim)"
      ],
      "metadata": {
        "id": "5O5u8CxXaUGR"
      },
      "execution_count": null,
      "outputs": []
    },
    {
      "cell_type": "markdown",
      "source": [
        "answer is 3\n",
        "\n",
        "#Homogeneity\n",
        "NumPy requires arrays to be homegenous. This means that you have to have the same number of columns in each row (in our example before, that would be the same number of age values per group).\n",
        "\n",
        "This isn’t really valid :"
      ],
      "metadata": {
        "id": "ahQiG0quacES"
      }
    },
    {
      "cell_type": "code",
      "source": [
        "d = np.array([[1,2,3],[1,2]])"
      ],
      "metadata": {
        "id": "SAuz32Ghajlh"
      },
      "execution_count": null,
      "outputs": []
    },
    {
      "cell_type": "markdown",
      "source": [
        "*but* if you wrote the above, you wouldn’t get an error. Instead, NumPy will store references to two separate lists within the overall array, and give a shape of (2,) (ie a 1D array with 2 values).\n",
        "\n",
        "This is not recommended as you will be unable to use a number of key NumPy features if you do this.\n",
        "\n",
        "#Mathematical Operations\n",
        "NumPy allows us to apply mathematical operations to arrays easily. Let’s imagine we have an array a, and we want to double the value of every element in the array :"
      ],
      "metadata": {
        "id": "snO_3mLFaoNh"
      }
    },
    {
      "cell_type": "code",
      "source": [
        "a = np.array([1,2,3,4,5])\n",
        "\n",
        "a = a * 2\n",
        "print(a)"
      ],
      "metadata": {
        "id": "JF0vdEqRa1Wq"
      },
      "execution_count": null,
      "outputs": []
    },
    {
      "cell_type": "markdown",
      "source": [
        "answer is [2 4 6 8 10]\n",
        "\n",
        "#Slicing\n",
        "*Slicing* allows us to easily carve up bits of our NumPy array to deal with only certain sections."
      ],
      "metadata": {
        "id": "JfeXWukya7T8"
      }
    },
    {
      "cell_type": "code",
      "source": [
        "b = np.array ([[1,2,3,4,5],[6,7,8,9,10]])\n",
        "\n",
        "# Double the value of every value in the second row only and store in a new \n",
        "# array\n",
        "\n",
        "c = b[1] * 2\n",
        "print (c)\n",
        "\n",
        "# print out the value in rghe third column of the first row\n",
        "print (b[0][2])"
      ],
      "metadata": {
        "id": "SPc6tnSebFYh"
      },
      "execution_count": null,
      "outputs": []
    },
    {
      "cell_type": "markdown",
      "source": [
        "result is [12 14 16 18 20]\n",
        "3\n",
        "\n",
        "#Statistics\n",
        "We can also perform statistical operations on our NumPy array easily. Let’s say we want to find the mean of our array :\n"
      ],
      "metadata": {
        "id": "ImicoXx9bh5e"
      }
    },
    {
      "cell_type": "code",
      "source": [
        "a = np.array([1,2,3,4,5])\n",
        "\n",
        "# print the mean of array a\n",
        "print (a.mean())\n",
        "\n",
        "b = np.array([[1,2,3,4,5],[6,7,8,9,10]])\n",
        "\n",
        "#print the mean across rows (e.g. mean of element 0, mean of element 1 etc)\n",
        "print (np,mean(b,axis = 0))\n",
        "\n",
        "# print the mean across columns (eg mean of each row)\n",
        "print (np.mean(b, axis = 1))"
      ],
      "metadata": {
        "id": "cDNwLcHXbwBb"
      },
      "execution_count": null,
      "outputs": []
    },
    {
      "cell_type": "markdown",
      "source": [
        "results are\n",
        "\n",
        "3.0\n",
        "\n",
        "[3.5 4.5 5.5 6.5 7.5]\n",
        "\n",
        "#Dot Product\n",
        "The dot product of two arrays of identical length multiplies the nth element of array a with the nth element of array b, and adds all of these multiplications together to give a single answer.\n",
        "\n",
        "Example :\n",
        "\n",
        "a = [1, 2, 3]\n",
        "\n",
        "b = [2, 4, 6]\n",
        "\n",
        "a · b = (1 x 2) + (2 x 4) + (3 x 6) = 2 + 8 + 18 = 28\n",
        "\n",
        "In NumPy we simply use the dot() function :\n",
        "\n",
        "[3. 8.]"
      ],
      "metadata": {
        "id": "_6FZCdjBcKnb"
      }
    },
    {
      "cell_type": "code",
      "source": [
        "a = np,array([1,2,3])\n",
        "b = np.array([2,4,6])\n",
        "\n",
        "dp = np.dot(a,b)\n",
        "print dp"
      ],
      "metadata": {
        "id": "t4E_dS04caOu"
      },
      "execution_count": null,
      "outputs": []
    },
    {
      "cell_type": "markdown",
      "source": [
        "result\n",
        "28\n",
        "\n",
        "Can anyone think of situations\n",
        "where taking the dot product\n",
        "may be useful?\n",
        "\n",
        "#vstack\n",
        "The vstack function allows us to easily add more rows to an existing NumPy array :\n",
        "\n"
      ],
      "metadata": {
        "id": "2Ao9VJjUcm9w"
      }
    },
    {
      "cell_type": "code",
      "source": [
        "b = np.array ([[1,2,3,4,5],[6,7,8,9,10]])\n",
        "list_to_add = [3,6,9,12,15]\n",
        "\n",
        "b = np.vstack([b, list_to_add])\n",
        "\n",
        "print (b)"
      ],
      "metadata": {
        "id": "0yxdY0a3cuRb"
      },
      "execution_count": null,
      "outputs": []
    },
    {
      "cell_type": "markdown",
      "source": [
        "result\n",
        "\n",
        "[[ 1  2  3  4  5 ]\n",
        "\n",
        " [ 6  7  8  9 10 ]\n",
        "\n",
        " [ 3  6  9 12 15 ]]\n",
        "\n",
        "#hstack\n",
        "\n",
        "The hstack function allows us to do the same, but for adding columns :"
      ],
      "metadata": {
        "id": "x_A92FpvdGYk"
      }
    },
    {
      "cell_type": "code",
      "source": [
        "b = np.array ([[1,2,3,4,5],[6,7,8,9,10]])\n",
        "\n",
        "column_to_add = [[6], [12]]\n",
        "\n",
        "b = np.hstack([b, column_to_add])\n",
        "\n",
        "print (b)"
      ],
      "metadata": {
        "id": "GOYfJ0T6dZBe"
      },
      "execution_count": null,
      "outputs": []
    },
    {
      "cell_type": "markdown",
      "source": [
        "result\n",
        "\n",
        "[[ 1  2  3  4  5  6]\n",
        "\n",
        " [ 6  7  8  9 10  12]]\n",
        "\n",
        "Remember – NumPy arrays should be homogenous, and so\n",
        "if you’re hstacking new columns, you should be adding new columns to every row in your array.\n",
        "\n",
        "#Removing Duplicate Data\n",
        "The unique function allows us to easily remove duplicate values from an array :\n"
      ],
      "metadata": {
        "id": "vKLuLJDidi64"
      }
    },
    {
      "cell_type": "code",
      "source": [
        "b = np.array ( [[1,2,3,4,5],[5,6,7,8,9]])\n",
        "\n",
        "# overwrite b with a version of b with only unique values\n",
        "b = np.unique\n",
        "\n",
        "print (b)\n",
        "\n",
        "b - np.array([[1,2,3], [4,5,6], [1,2,3]])\n",
        "\n",
        "# remove duplicate rows (axis=0 for rows, 1, for cols, 2+ for 3d+ cols)\n",
        "\n",
        "b = np.unique(b,axis=0)\n",
        "print(b)"
      ],
      "metadata": {
        "id": "TBCDdJizdy2d"
      },
      "execution_count": null,
      "outputs": []
    },
    {
      "cell_type": "markdown",
      "source": [
        "result\n",
        "\n",
        " [ 1  2  3  4  5  6  7  8  9]\n",
        "\n",
        "[[ 1  2  3]\n",
        "\n",
        " [ 4  5  6]]\n",
        "\n",
        "#NumPy Speed Demo\n",
        "\n",
        "Why should we bother using NumPy? Is it really that much faster?\n",
        "Let’s have a look at a demo.\n",
        "\n",
        "#Exercise 4\n",
        "You have been given data that contains three fields relating to patients. One represents\n",
        "patient ages, one the number of previous admissions they have had, and one whether\n",
        "they were admitted following their latest attendance to ED (1 if they were, 0 if they\n",
        "weren’t). Here is the data :\n",
        "\n",
        "Ages = 18, 19, 22, 23, 24, 27, 29, 31, 34, 46\n",
        "\n",
        "Previous admissions = 0, 3, 2, 0, 0, 1, 2, 0, 0, 1\n",
        "\n",
        "Admitted this time = 1, 0, 0, 0, 0, 1, 1, 1, 0, 0\n",
        "\n",
        "Write code that :\n",
        "1. Stores the three data fields above in three separate lists\n",
        "2. Combines the lists into a single 2D NumPy Array called data\n",
        "3. Calculates and prints the mean age of patients in the NumPy Array by using slicing on\n",
        "the appropriate row, rounded to 1 d.p.\n",
        "4. Calculates and prints the total age of those admitted this time using slicing and a dot\n",
        "product calculation\n",
        "5. Calculates the mean number of previous admissions for those aged under 30 in the\n",
        "data using slicing (assume that the lists are static, and the list of ages is in ascending\n",
        "order; remember [a : b] notation from your lists training…), rounded to 1 d.p.\n",
        "\n",
        "You have 30 minutes + 10 minute break. Work in your groups."
      ],
      "metadata": {
        "id": "n2Wua-Vieci1"
      }
    },
    {
      "cell_type": "code",
      "source": [
        "import numpy as np\n",
        "\n",
        "# Store in three lists\n",
        "ages = [18,19,22,23,24,27,29,31,34,46]\n",
        "previous_admissions = [0,3,2,0,0,1,2,0,0,1]\n",
        "admitted_this_time = [1,0,0,0,0,1,1,1,0,0]\n",
        "\n",
        "# Combine into 2D NumPy Array\n",
        "data = np.array([ages,previous_admissions,admitted_this_time])\n",
        "\n",
        "# Calculate mean age using slicing of the NumPy array\n",
        "mean_age = data[0].mean()\n",
        "print (f\"Mean Age : {mean_age:.1f}\")\n",
        "\n",
        "# Calculate total age of those admitted this time using slicing and \n",
        "# a dot product calculation\n",
        "total_age_admitted_this_time = np.dot(data[0], data[2])\n",
        "print (\"Total Age of those admitted this time :\",\n",
        "       f\"{total_age_admitted_this_time}\")\n",
        "\n",
        "# Calculate mean number of previous admissions for those under 30 in the data\n",
        "mean_prev_admissions_under_30 = data[1][0:7].mean()\n",
        "print (\"Mean Number of Readmissions for those under 30 :\",\n",
        "       f\"{mean_prev_admissions_under_30:.1f}\")\n"
      ],
      "metadata": {
        "id": "pKXlVK-igFRH"
      },
      "execution_count": null,
      "outputs": []
    },
    {
      "cell_type": "markdown",
      "source": [
        "#Pandas\n",
        "Pandas are beautiful creatures native to China\n",
        "Pandas is also a beautiful open source Python library\n",
        "that provides powerful data structures and analysis tools\n",
        "The level of geekiness of the person you’re talking to can\n",
        "be easily judged by which one of these they assume\n",
        "you’re talking about when you say “pandas”\n",
        "\n",
        "#Pandas Overview\n",
        "Pandas is very powerful for manipulating data in large\n",
        "arrays, and allows for indexing of data.\n",
        "NumPy and Pandas are often used together, with NumPy\n",
        "used for mathematical functions applied to the data, and\n",
        "Pandas used to manipulate the data.\n",
        "As with NumPy, there is a conventional alias under which\n",
        "Pandas should be imported :"
      ],
      "metadata": {
        "id": "89zzKsplg36I"
      }
    },
    {
      "cell_type": "code",
      "source": [
        "import pandas as pd"
      ],
      "metadata": {
        "id": "yRgIoqVEg9kS"
      },
      "execution_count": null,
      "outputs": []
    },
    {
      "cell_type": "markdown",
      "source": [
        "#Pandas DataFrame\n",
        "One of the most useful structures in Pandas is the\n",
        "Pandas DataFrame. A DataFrame is like a table with\n",
        "different columns (which can have names) for different\n",
        "data fields, and different rows for each entry in the data.\n",
        "\n",
        "Imagine a table in Excel. Only much more powerful, and with the potential to be multi-dimensional beyond two dimensions.\n",
        "\n",
        "PatientID   Name Age Location\n",
        "\n",
        "1 Bob Rogers 46 Plymouth\n",
        "\n",
        "2 Fred Miles 31 Truro\n",
        "\n",
        "3 Janet Smith 27 Exeter\n",
        "\n",
        "#Creating a DataFrame\n",
        "Let’s create a new empty dataframe, and set up some\n",
        "lists of data we want to add to the dataframe."
      ],
      "metadata": {
        "id": "BxdGcKHnhA-w"
      }
    },
    {
      "cell_type": "code",
      "source": [
        "import pandas as pd\n",
        "df = pd.DataFrame()\n",
        "\n",
        "list_of_patient_IDs = [1,2,3]\n",
        "list_of_names = [\"Bob Rogers\", \"Fred Miles\", \"Janet Smith\"]\n",
        "list_of_ages = [46, 31, 27]\n",
        "list_of_locations = [\"Plymouth\", \"Truro\", \"Exeter\"]"
      ],
      "metadata": {
        "id": "B7mBdHDNhSux"
      },
      "execution_count": null,
      "outputs": []
    },
    {
      "cell_type": "markdown",
      "source": [
        "Now we can setup some columns in our DataFrame by\n",
        "giving the columns names and specifying the data we\n",
        "want in the column (in this case, the data from the lists we created) :"
      ],
      "metadata": {
        "id": "iXOo-6NBh0m7"
      }
    },
    {
      "cell_type": "code",
      "source": [
        "df['patient_ID'] = list_of_patient_IDs\n",
        "df[\"name\"] = list_of_names\n",
        "df[\"age\"] = list_of_ages\n",
        "df['location'] = list_of_locations"
      ],
      "metadata": {
        "id": "V6Lm_AsLh2NQ"
      },
      "execution_count": null,
      "outputs": []
    },
    {
      "cell_type": "markdown",
      "source": [
        "Now let’s print the DataFrame to see what it looks like :"
      ],
      "metadata": {
        "id": "Am0GsYq_iPL3"
      }
    },
    {
      "cell_type": "code",
      "source": [
        "print(df)"
      ],
      "metadata": {
        "colab": {
          "base_uri": "https://localhost:8080/"
        },
        "id": "mGWMa67JiP3D",
        "outputId": "4559aee2-109e-4cb6-ded1-117d7fe4add2"
      },
      "execution_count": null,
      "outputs": [
        {
          "output_type": "stream",
          "name": "stdout",
          "text": [
            "   patient_ID         name  age  location\n",
            "0           1   Bob Rogers   46  Plymouth\n",
            "1           2   Fred Miles   31     Truro\n",
            "2           3  Janet Smith   27    Exeter\n"
          ]
        }
      ]
    },
    {
      "cell_type": "markdown",
      "source": [
        "You’ll notice that a fifth column has been added automatically\n",
        "– this is the index column. Like a database, a Pandas\n",
        "DataFrame needs a unique identifier for each entry.\n",
        "However, in many cases, a more useful unique identifier will\n",
        "be in our data already (the patient_ID in this case). Let’s see\n",
        "how we can make this the index...\n",
        "\n",
        "#Specifying a DataFrame Index\n",
        "To set the index for the DataFrame, we use the\n",
        "set_index() function. We simply state the name of the\n",
        "column we want to be the index, and set the inplace flag\n",
        "to True (to indicate we want to make a change to an\n",
        "existing DataFrame without creating a new one) :\n"
      ],
      "metadata": {
        "id": "V5kS_kXUieUI"
      }
    },
    {
      "cell_type": "code",
      "source": [
        "df.set_index('patient_ID', inplace=True)\n",
        "\n",
        "print(df)"
      ],
      "metadata": {
        "colab": {
          "base_uri": "https://localhost:8080/"
        },
        "id": "xLNWTf4YijjY",
        "outputId": "76b3cb5a-2db3-4089-a1c4-705a489602ec"
      },
      "execution_count": null,
      "outputs": [
        {
          "output_type": "stream",
          "name": "stdout",
          "text": [
            "                   name  age  location\n",
            "patient_ID                            \n",
            "1            Bob Rogers   46  Plymouth\n",
            "2            Fred Miles   31     Truro\n",
            "3           Janet Smith   27    Exeter\n"
          ]
        }
      ]
    },
    {
      "cell_type": "markdown",
      "source": [
        "#Retrieving specific records using loc\n",
        "We can retrieve specific records from our DataFrame\n",
        "using the loc method, and specifying the index / indices that we want to retrieve."
      ],
      "metadata": {
        "id": "DWD5XCOPiskU"
      }
    },
    {
      "cell_type": "code",
      "source": [
        "# retrieve single entry\n",
        "# eg print the record with index value of 2\n",
        "print (df.loc[2])\n",
        "\n",
        "#retrieve multiple entries specified in a list \n",
        "# eg print the records with the indices 2 and 3\n",
        "print (df.loc[[2, 3]])\n",
        "\n",
        "# retrieve muliple entries specified by a slice\n",
        "# eg print the records with indices 1 to 3 inclusive\n",
        "print (df.loc[1:3])"
      ],
      "metadata": {
        "colab": {
          "base_uri": "https://localhost:8080/"
        },
        "id": "tA7olMoxiwNl",
        "outputId": "1a54b3c2-f764-402b-bc42-a2333c3c6d95"
      },
      "execution_count": null,
      "outputs": [
        {
          "output_type": "stream",
          "name": "stdout",
          "text": [
            "name        Fred Miles\n",
            "age                 31\n",
            "location         Truro\n",
            "Name: 2, dtype: object\n",
            "                   name  age location\n",
            "patient_ID                           \n",
            "2            Fred Miles   31    Truro\n",
            "3           Janet Smith   27   Exeter\n",
            "                   name  age  location\n",
            "patient_ID                            \n",
            "1            Bob Rogers   46  Plymouth\n",
            "2            Fred Miles   31     Truro\n",
            "3           Janet Smith   27    Exeter\n"
          ]
        }
      ]
    },
    {
      "cell_type": "markdown",
      "source": [
        "#Retrieving specific columns\n",
        "Pandas allows us to easily retrieve specific columns of data (note the index column is automatically included in the output too) :\n"
      ],
      "metadata": {
        "id": "C31TBHOijSWc"
      }
    },
    {
      "cell_type": "code",
      "source": [
        "print (df['name'])\n"
      ],
      "metadata": {
        "colab": {
          "base_uri": "https://localhost:8080/"
        },
        "id": "rNI2y9XZjVhW",
        "outputId": "3ed404e7-3ae5-4166-be48-1bead67b4c28"
      },
      "execution_count": null,
      "outputs": [
        {
          "output_type": "stream",
          "name": "stdout",
          "text": [
            "patient_ID\n",
            "1     Bob Rogers\n",
            "2     Fred Miles\n",
            "3    Janet Smith\n",
            "Name: name, dtype: object\n"
          ]
        }
      ]
    },
    {
      "cell_type": "markdown",
      "source": [
        "#Adding more rows (records)\n",
        "We can add additional rows (records) to a Pandas\n",
        "DataFrame. The most efficient way to do this is to\n",
        "declare a new DataFrame containing the new row(s) to\n",
        "be added, then use the append method to join the new\n",
        "DataFrame to the old one. We use a dictionary to\n",
        "establish the new value(s) associated with each column :"
      ],
      "metadata": {
        "id": "JeKqrUukjbkq"
      }
    },
    {
      "cell_type": "code",
      "source": [
        "df2 = pd.DataFrame({'patient_ID':[4,5],\n",
        "                     'name': [\"Lucy Rivers\", \"Dave Jones\"],\n",
        "                     'age':[28, 61],\n",
        "                     'location':[\"Plymouth\", \"Plymouth\"]})\n",
        "\n",
        "df2.set_index(\"patient_ID\", inplace = True)\n",
        "\n",
        "df = df.append(df2)\n",
        "\n",
        "print(df)"
      ],
      "metadata": {
        "colab": {
          "base_uri": "https://localhost:8080/"
        },
        "id": "b2Tts8yMjeEj",
        "outputId": "028c073a-f07e-4501-fe8d-108c776e2c17"
      },
      "execution_count": null,
      "outputs": [
        {
          "output_type": "stream",
          "name": "stdout",
          "text": [
            "                   name  age  location\n",
            "patient_ID                            \n",
            "1            Bob Rogers   46  Plymouth\n",
            "2            Fred Miles   31     Truro\n",
            "3           Janet Smith   27    Exeter\n",
            "4           Lucy Rivers   28  Plymouth\n",
            "5            Dave Jones   61  Plymouth\n"
          ]
        }
      ]
    },
    {
      "cell_type": "markdown",
      "source": [
        "# Adding more columns (fields)\n",
        "Adding columns to a DataFrame is much easier. We\n",
        "simply set up a list of the values we want to add in the new column, then add the list as a new column to the\n",
        "DataFrame :"
      ],
      "metadata": {
        "id": "NRdJjApQkbjV"
      }
    },
    {
      "cell_type": "code",
      "source": [
        "list_of_previous_admission = [True, True, False, False, False]\n",
        "df['previously_admitted'] = list_of_previous_admission\n",
        "print(df)"
      ],
      "metadata": {
        "colab": {
          "base_uri": "https://localhost:8080/"
        },
        "id": "m5P7CWHqkf3v",
        "outputId": "febd1585-d6e7-4942-a054-aff0e9abf938"
      },
      "execution_count": null,
      "outputs": [
        {
          "output_type": "stream",
          "name": "stdout",
          "text": [
            "                   name  age  location  previously_admitted\n",
            "patient_ID                                                 \n",
            "1            Bob Rogers   46  Plymouth                 True\n",
            "2            Fred Miles   31     Truro                 True\n",
            "3           Janet Smith   27    Exeter                False\n",
            "4           Lucy Rivers   28  Plymouth                False\n",
            "5            Dave Jones   61  Plymouth                False\n"
          ]
        }
      ]
    },
    {
      "cell_type": "markdown",
      "source": [
        "#Exercise 5\n",
        "You have been given a table containing data on Minor Injury Units :\n",
        "\n",
        "MIU Number Location X-Ray Facilities? Opening Time\n",
        "\n",
        "463 Lostwithiel Yes Morning\n",
        "\n",
        "571 St Austell No Afternoon\n",
        "\n",
        "614 Truro Yes Afternoon\n",
        "\n",
        "732 Looe No Morning\n",
        "\n",
        "817 Camborne Yes Evening\n",
        "\n",
        "Write code that :\n",
        "1. Stores the four columns as separate lists (in real applications, you can use functions to\n",
        "read in real data from a .csv file, in case you’re worried!)\n",
        "2. Creates a new Pandas DataFrame that contains this data in named columns, with MIU\n",
        "Number as the index\n",
        "3. Prints out the data for MIU Numbers 571 and 732\n",
        "4. Prints out the location column of the data\n",
        "5. Adds a new column that stores the mean number of patients seen per day, which are 4,\n",
        "3, 3, 1, 2 respectively, then prints the dataframe.\n",
        "6. Adds a new row representing the data for MIU number 901, which is a morning MIU\n",
        "with X-Ray facilities in Callington, that sees 5 patients per day, then prints the dataframe.\n",
        "\n",
        "You have 30 minutes to complete the exercise. Work in your groups."
      ],
      "metadata": {
        "id": "-KLHaSVSk1V5"
      }
    },
    {
      "cell_type": "code",
      "source": [
        "import pandas as pd\n",
        "\n",
        "list_of_miu_numbers = [463,571,614,732,817]\n",
        "list_of_locations = [\"Lostwithiel\",\"St Austell\",\"Truro\",\"Looe\",\"Camborne\"]\n",
        "list_of_x_ray = [True,False,True,False,True]\n",
        "list_of_opening_times = [\"Morning\",\"Afternoon\",\"Afternoon\",\"Morning\",\"Evening\"]\n",
        "\n",
        "df_mius = pd.DataFrame()\n",
        "\n",
        "df_mius['miu_number'] = list_of_miu_numbers\n",
        "df_mius['location'] = list_of_locations\n",
        "df_mius['x_ray_facilities'] = list_of_x_ray\n",
        "df_mius['opening_time'] = list_of_opening_times\n",
        "\n",
        "df_mius.set_index('miu_number', inplace=True)\n",
        "\n",
        "print (df_mius.loc[[571,732]])\n",
        "print ()\n",
        "print (df_mius['location'])\n",
        "print ()\n",
        "\n",
        "list_of_mean_pts_seen_per_day = [4,3,3,1,2]\n",
        "\n",
        "df_mius['mean_pts_per_day'] = list_of_mean_pts_seen_per_day\n",
        "\n",
        "print (df_mius)\n",
        "print ()\n",
        "\n",
        "df2 = pd.DataFrame({\"miu_number\":[901], \n",
        "                    \"location\":[\"Callington\"],\n",
        "                    \"x_ray_facilities\":[True],\n",
        "                    \"opening_time\":[\"Morning\"],\n",
        "                    \"mean_pts_per_day\":[5]})\n",
        "df2.set_index('miu_number', inplace=True)\n",
        "\n",
        "df_mius = df_mius.append(df2)\n",
        "\n",
        "print (df_mius)"
      ],
      "metadata": {
        "id": "32UEpGBqlKBf"
      },
      "execution_count": null,
      "outputs": []
    },
    {
      "cell_type": "markdown",
      "source": [
        "#Further Reading\n",
        "For the remainder of this session, I want you to read through the tutorial on summary\n",
        "statistics in Pandas here :\n",
        "https://pandas.pydata.org/docs/getting_started/intro_tutorials/06_calculate_statistics.html\n",
        "Read through this as a group and check that you all understand how the functions are\n",
        "working.\n",
        "This tutorial uses the “Titanic” dataset – a commonly used dataset for Machine Learning,\n",
        "which contains information about the passengers on the Titanic. We will use the Titanic\n",
        "dataset later in the course in the Machine Learning module."
      ],
      "metadata": {
        "id": "S66z26nIlDwl"
      }
    },
    {
      "cell_type": "markdown",
      "source": [
        "#Python Programming Workbook 6\n",
        "You should be completing this workbook as Exercise 1 of Session 1E of the HSMA Programme - Programming in Python Part 3.\n",
        "\n",
        "Write a function called prime_checker that takes as its input an integer, and which returns a boolean indicating whether or not the number is a prime number. Ask the user to input a number, and call the function with this number to check whether it is a prime number or not, with an appropriate message displayed to the user depending on the output of the function. The user should be asked to input numbers to test until they input 0, at which point the program terminates. You should include exception handling around the input to catch invalid entries. A Pandas DataFrame should store a record of the run number (starting at 1, incrementing by 1 for each new number tested), each number tested and whether it was prime or not, and should be displayed to the user once they exit. The index for the dataframe should be set as the run number.\n",
        "\n",
        "Remember, Prime Numbers are numbers greater than 1 that are only divisible by 1 and themselves. The first 10 prime numbers are 2, 3, 5, 7, 11, 13, 17, 19, 23, 29 - use them to check your code is working correctly.\n",
        "\n",
        "Hint : a for loop with a range of (x,x) where x is the same number in both cases, will never run. You may find this useful for determining one of the prime numbers, depending on how you approach this..."
      ],
      "metadata": {
        "id": "mytWDO-DTrhB"
      }
    },
    {
      "cell_type": "code",
      "source": [
        "import pandas as pd\n",
        "    \n",
        "# Function to check whether a number is prime or not\n",
        "def prime_checker(input_number):\n",
        "  if input_number <= 1:\n",
        "    return False\n",
        "  else:\n",
        "    for i in range(2, input_number):\n",
        "      if input_number % i == 0:\n",
        "        return False\n",
        "    return True\n",
        "    \n",
        "# Set up dataframe to store results\n",
        "prime_df = pd.DataFrame()\n",
        "    \n",
        "# Start recorded run number at 1\n",
        "run_number = 1\n",
        "\n",
        "# Ask user to input number to check if it is prime or not.  Continue until\n",
        "# user inputs 0.\n",
        "while True:\n",
        "  # Use exception handling to catch non-integer inputs\n",
        "  try:\n",
        "    number_to_test = int(input(\"Please enter an integer (0 to exit): \"))\n",
        "       \n",
        "    # If user inputs 0, then print the results dataframe and exit\n",
        "    if number_to_test == 0:\n",
        "      print (prime_df)\n",
        "            \n",
        "      break\n",
        "    else:\n",
        "      # Call the function to check if number is prime and store returned boolean\n",
        "      is_it_prime = prime_checker(number_to_test)\n",
        "                \n",
        "      # Print appropriate message to user depending on output of function\n",
        "      if is_it_prime == True:\n",
        "        print (f\"{number_to_test} is a prime number.\")\n",
        "          \n",
        "      else:\n",
        "        print (f\"{number_to_test} is NOT a prime number.\")\n",
        "                    \n",
        "      # Set up a new dataframe with the results of this run, set the index to the run number\n",
        "      # and add it to the main dataframe that stores results\n",
        "      df2 = pd.DataFrame({\"run_number\":[run_number],\n",
        "                          \"tested_number\":[number_to_test],\n",
        "                          \"prime\":[is_it_prime]})\n",
        "      df2.set_index(\"run_number\", inplace=True)\n",
        "      prime_df = prime_df.append(df2)\n",
        "                \n",
        "      # Increment the run number by 1\n",
        "      run_number += 1\n",
        "  except:\n",
        "    print (\"Input must be an integer.  Please try again.\")"
      ],
      "metadata": {
        "colab": {
          "base_uri": "https://localhost:8080/"
        },
        "id": "YEiHX2MJUAqW",
        "outputId": "328771b5-d77c-42b1-efb3-2259b9d7db2c"
      },
      "execution_count": null,
      "outputs": [
        {
          "output_type": "stream",
          "name": "stdout",
          "text": [
            "Please enter an integer (0 to exit): 5\n",
            "5 is a prime number.\n",
            "Please enter an integer (0 to exit): 22\n",
            "22 is NOT a prime number.\n",
            "Please enter an integer (0 to exit): 0\n",
            "            tested_number  prime\n",
            "run_number                      \n",
            "1                       5   True\n",
            "2                      22  False\n"
          ]
        }
      ]
    },
    {
      "cell_type": "markdown",
      "source": [
        "#Object Oriented Programming\n",
        "Today, we’re going to cover Object Oriented\n",
        "Programming (OOP) in Python, which is the preferred\n",
        "way to structure non-trivial programs.\n",
        "Let’s briefly remind ourselves of what we mean by Object\n",
        "Oriented Programming...\n",
        "\n",
        "#OOP Example 1\n",
        "\n",
        "##Class \n",
        "contains the generalised description / blueprint\n",
        "\n",
        "**CLASS : Patient**\n",
        "\n",
        "*Attributes*\n",
        "name : string\n",
        "patient_id : integer\n",
        "age : integer\n",
        "\n",
        "*Methods*\n",
        "attend_ed()\n",
        "receive_treatment()\n",
        "\n",
        "##Objects \n",
        "are instances of a Class that represent specific examples of the Class\n",
        "\n",
        "**OBJECT**\n",
        "name = “Bob Jones”\n",
        "patient_id = 23195392\n",
        "age = 64\n",
        "attend_ed()\n",
        "receive_treatment()\n",
        "\n",
        "We can create lots of instances, and set them up with different attributes and call methods on them separately\n",
        "\n",
        "#Constructors\n",
        "A constructor defines what happens when an object is instantiated from a class (an instance object is created from a class).\n",
        "The constructor essentially “constructs” the object, and specifies the (initial) values for the attributes and methods of the object.\n",
        "The constructor is a method within the Class.\n",
        "\n",
        "#FUN FACT :#\n",
        "__init__ is an example of a “Dunder” method (“Dunder” short for\n",
        "“Double Underscore”); also known as “Magic Methods” \n",
        "\n",
        "Don’t worry too much about what these methods are – the key thing to know is that magic / dunder methods do not require you to call them manually; they are called automatically when the time is right. __init__\n",
        "is called when an object is created.\n",
        "\n",
        "#Defining a Class\n",
        "Let’s now look at how we’d implement OOP in Python. Let’s first\n",
        "consider how we create a class :\n"
      ],
      "metadata": {
        "id": "uW9dmBogWxr2"
      }
    },
    {
      "cell_type": "code",
      "source": [
        "# Decalre a class using the class keyword followed by a class name, which \n",
        "# should start with a capital letter\n",
        "\n",
        "class My_Class:\n",
        "  # Class attributes go here, and are the attributes that have the same\n",
        "  # value for instances created from this class\n",
        "  class_attribute_1 = 'Class attribute value'\n",
        "\n",
        "  # The constructor method. Note the twounderscores both before and after\n",
        "  # init in the name. The constructir sets up the Instance Attributes\n",
        "  # (those with values specific to this instance of the class). Any values\n",
        "  # that need to be passed in to set up the attributes need ro be declared\n",
        "  # here, as with any function (method = a function in a class). However,\n",
        "  # all class methods must have 'self' as the first parameter (even if thre\n",
        "  # are no other attributes). The 'self' parameter essentially stores\n",
        "  # the instance of the class (the copy form the blueprint). Don't worry\n",
        "  # too much about this - just know that you need to include it, and that \n",
        "  # when you say self.something you're referring to the instance of the \n",
        "  # Class rather thyan the Class itself\n",
        "  def __init__(self, attribute_1, attribute_2):\n",
        "    self.attribute_1 = attribute_1\n",
        "    self.attribute_2 = attribute_2\n",
        "\n",
        "  # All classes must have at least a constructor, but may also have other \n",
        "  # methods. These methods must have self as their first parametr, but\n",
        "  # may also have other paraemters, as we've seen before in functions.\n",
        "  def method_1(self):\n",
        "    # what do we want method_1 to do\n",
        "  \n",
        "  def method_2(self, method_parameter_1):\n",
        "     # what do we want method_2 to do with method_parameter_1\n"
      ],
      "metadata": {
        "colab": {
          "base_uri": "https://localhost:8080/",
          "height": 131
        },
        "id": "VNWiwHkiXs40",
        "outputId": "bc7b63eb-0d40-4725-c207-a34da57cd214"
      },
      "execution_count": null,
      "outputs": [
        {
          "output_type": "error",
          "ename": "IndentationError",
          "evalue": "ignored",
          "traceback": [
            "\u001b[0;36m  File \u001b[0;32m\"<ipython-input-9-2d3b1a8d3d39>\"\u001b[0;36m, line \u001b[0;32m30\u001b[0m\n\u001b[0;31m    def method_2(self, method_parameter_1):\u001b[0m\n\u001b[0m    ^\u001b[0m\n\u001b[0;31mIndentationError\u001b[0m\u001b[0;31m:\u001b[0m expected an indented block\n"
          ]
        }
      ]
    },
    {
      "cell_type": "markdown",
      "source": [
        "Let’s look at how we might set up our Vehicle class.\n",
        "\n",
        "**CLASS : Vehicle**\n",
        "\n",
        "*Attributes*\n",
        "\n",
        "common_name : string\n",
        "\n",
        "number_of_wheels : integer\n",
        "\n",
        "capacity : integer\n",
        "\n",
        "*Methods*\n",
        "\n",
        "drive(speed : float)\n",
        "\n",
        "park(location : string)"
      ],
      "metadata": {
        "id": "vTn2-bIRZ8WA"
      }
    },
    {
      "cell_type": "code",
      "source": [
        "class Vehilce:\n",
        "  def__init__(self, common_name, number_of_wheels, capacity):\n",
        "    self.common_name = common_name\n",
        "    self.number_of_wheels = number_of_wheels\n",
        "    self.capacity = capacity\n",
        "  \n",
        "  def drive(self, speed):\n",
        "    print(f\"I'm now driving at {speed} mph\")\n",
        "  \n",
        "  def park(self, location):\n",
        "    print (f\"I've now parked at {location}\")\n"
      ],
      "metadata": {
        "colab": {
          "base_uri": "https://localhost:8080/",
          "height": 131
        },
        "id": "Zw4cyf0oaFS4",
        "outputId": "e5bce74a-dd66-4612-887b-e071df30add0"
      },
      "execution_count": null,
      "outputs": [
        {
          "output_type": "error",
          "ename": "SyntaxError",
          "evalue": "ignored",
          "traceback": [
            "\u001b[0;36m  File \u001b[0;32m\"<ipython-input-7-c3a0b518f300>\"\u001b[0;36m, line \u001b[0;32m2\u001b[0m\n\u001b[0;31m    def__init__(self, common_name, number_of_wheels, capacity):\u001b[0m\n\u001b[0m                                                               ^\u001b[0m\n\u001b[0;31mSyntaxError\u001b[0m\u001b[0;31m:\u001b[0m invalid syntax\n"
          ]
        }
      ]
    },
    {
      "cell_type": "markdown",
      "source": [
        "#Instantiation\n",
        "We’ve defined our Vehicle class now but, as with\n",
        "functions, nothing will happen until we use it. So let’s\n",
        "create an instance of the class (a process known as\n",
        "Instantiation). Let’s create an ambulance, and tell it to\n",
        "drive at 60mph, and then park at the hospital :\n"
      ],
      "metadata": {
        "id": "SDVOfFa5anSa"
      }
    },
    {
      "cell_type": "code",
      "source": [
        "# Create an instance of this vehicle called my_ambulance, that's an\n",
        "# ambluance with 4 wheels and a passenger capacity of 3\n",
        "my_ambulance = Vehicle(\"Ambulance\", 4, 3)\n",
        "\n",
        "# tell the ambulance to drive at 60mph by running the drive() method of\n",
        "# the instance. Note - you don't need to pass 'self', this is all done\n",
        "# automatically\n",
        "my_ambulance.drive(60)\n",
        "\n",
        "# Tell the ambulance to park at the hospital\n",
        "my_ambulance.park(\"hospital\")\n",
        "\n"
      ],
      "metadata": {
        "id": "gtH_FKLQavRo"
      },
      "execution_count": null,
      "outputs": []
    },
    {
      "cell_type": "markdown",
      "source": [
        "#Multiple Instances\n",
        "\n",
        "The beauty of OOP is that we only need to specify the\n",
        "Class once, but we can generate as many instances of it\n",
        "as we like with minimal code :"
      ],
      "metadata": {
        "id": "R0J2hxzcbu_b"
      }
    },
    {
      "cell_type": "code",
      "source": [
        "mikes_ambulance = Vehicle(\"Ambulance\",4,3)\n",
        "seans_car = Vehicle(\"Car\",3,2)\n",
        "alisons_bicycle = Vehicle(\"Bike\", 2,1)\n",
        "toms_monster_truck = Vehicle(\"Monster Truck\", 4, 1)"
      ],
      "metadata": {
        "colab": {
          "base_uri": "https://localhost:8080/",
          "height": 218
        },
        "id": "O1Hhc8GxbyPe",
        "outputId": "c0e6fb7c-cd5a-4543-f74f-374b339f775b"
      },
      "execution_count": null,
      "outputs": [
        {
          "output_type": "error",
          "ename": "NameError",
          "evalue": "ignored",
          "traceback": [
            "\u001b[0;31m---------------------------------------------------------------------------\u001b[0m",
            "\u001b[0;31mNameError\u001b[0m                                 Traceback (most recent call last)",
            "\u001b[0;32m<ipython-input-10-f93734e1276a>\u001b[0m in \u001b[0;36m<module>\u001b[0;34m\u001b[0m\n\u001b[0;32m----> 1\u001b[0;31m \u001b[0mmikes_ambulance\u001b[0m \u001b[0;34m=\u001b[0m \u001b[0mVehicle\u001b[0m\u001b[0;34m(\u001b[0m\u001b[0;34m\"Ambulance\"\u001b[0m\u001b[0;34m,\u001b[0m\u001b[0;36m4\u001b[0m\u001b[0;34m,\u001b[0m\u001b[0;36m3\u001b[0m\u001b[0;34m)\u001b[0m\u001b[0;34m\u001b[0m\u001b[0;34m\u001b[0m\u001b[0m\n\u001b[0m\u001b[1;32m      2\u001b[0m \u001b[0mseans_car\u001b[0m \u001b[0;34m=\u001b[0m \u001b[0mVehicle\u001b[0m\u001b[0;34m(\u001b[0m\u001b[0;34m\"Car\"\u001b[0m\u001b[0;34m,\u001b[0m\u001b[0;36m3\u001b[0m\u001b[0;34m,\u001b[0m\u001b[0;36m2\u001b[0m\u001b[0;34m)\u001b[0m\u001b[0;34m\u001b[0m\u001b[0;34m\u001b[0m\u001b[0m\n\u001b[1;32m      3\u001b[0m \u001b[0malisons_bicycle\u001b[0m \u001b[0;34m=\u001b[0m \u001b[0mVehicle\u001b[0m\u001b[0;34m(\u001b[0m\u001b[0;34m\"Bike\"\u001b[0m\u001b[0;34m,\u001b[0m \u001b[0;36m2\u001b[0m\u001b[0;34m,\u001b[0m\u001b[0;36m1\u001b[0m\u001b[0;34m)\u001b[0m\u001b[0;34m\u001b[0m\u001b[0;34m\u001b[0m\u001b[0m\n\u001b[1;32m      4\u001b[0m \u001b[0mtoms_monster_truck\u001b[0m \u001b[0;34m=\u001b[0m \u001b[0mVehicle\u001b[0m\u001b[0;34m(\u001b[0m\u001b[0;34m\"Monster Truck\"\u001b[0m\u001b[0;34m,\u001b[0m \u001b[0;36m4\u001b[0m\u001b[0;34m,\u001b[0m \u001b[0;36m1\u001b[0m\u001b[0;34m)\u001b[0m\u001b[0;34m\u001b[0m\u001b[0;34m\u001b[0m\u001b[0m\n",
            "\u001b[0;31mNameError\u001b[0m: name 'Vehicle' is not defined"
          ]
        }
      ]
    },
    {
      "cell_type": "markdown",
      "source": [
        "#Referencing my own attributes\n",
        "Let’s say we want to add an attribute called “Owner” to the Vehicle Class, and have the owner displayed in the message when the drive method is called :"
      ],
      "metadata": {
        "id": "UITFTpQ3cIBW"
      }
    },
    {
      "cell_type": "code",
      "source": [
        "class Vehicle:\n",
        "  def __init__(self, common_name, number_of_wheels, capacity, owner):\n",
        "    self.common_name = common_name\n",
        "    self.number_of_wheels = number_of_wheels\n",
        "    self.capacity = capacity\n",
        "    self.owner = owner\n",
        "\n",
        "  def drive(self, speed):\n",
        "    print(f\"{self.owner} is now driving at {speed}mph.\")\n",
        "\n",
        "  def park(self, location):\n",
        "    print(f\"I've now parked at {location}\")\n",
        "\n",
        "mikes_ambulance = Vehicle(\"Ambulance\",4,3, \"Mike\")\n",
        "seans_car = Vehicle(\"Car\",3,2, \"Sean\")\n",
        "alisons_bicycle = Vehicle(\"Bike\", 2,1, \"Alison\")\n",
        "toms_monster_truck = Vehicle(\"Monster Truck\", 4, 1,\"Tom\")\n",
        "\n",
        "mikes_ambulance.drive(50)\n",
        "seans_car.drive(20)\n",
        "alisons_bicycle.drive(7)\n",
        "toms_monster_truck.drive(80)\n",
        "\n",
        "print(f\"Tom's vehicle has {toms_monster_truck.number_of_wheels} wheels\")\n"
      ],
      "metadata": {
        "colab": {
          "base_uri": "https://localhost:8080/"
        },
        "id": "6rLKXMJTcMQW",
        "outputId": "75bc567a-d880-4af7-e2a5-dfc1beef8996"
      },
      "execution_count": null,
      "outputs": [
        {
          "output_type": "stream",
          "name": "stdout",
          "text": [
            "Mike is now driving at 50mph.\n",
            "Sean is now driving at 20mph.\n",
            "Alison is now driving at 7mph.\n",
            "Tom is now driving at 80mph.\n",
            "Tom's vehicle has 4 wheels\n"
          ]
        }
      ]
    },
    {
      "cell_type": "markdown",
      "source": [
        "#More on the constructor\n",
        "Not all attributes have to be passed in to the constructor\n",
        "from externally. For example, we may have attributes\n",
        "that will always have a default value :"
      ],
      "metadata": {
        "id": "09Yts9LNdciO"
      }
    },
    {
      "cell_type": "code",
      "source": [
        "# Here, we only need to provide a name when creating a new instance of a\n",
        "# Student - the other two attributes will be set to default values\n",
        "\n",
        "class Student:\n",
        "  def __init__(self,name):\n",
        "    self.name = name\n",
        "    self.completed_course = False\n",
        "    self.level = 1\n",
        "\n",
        "my_student = Student(\"Dan Chalk\")\n"
      ],
      "metadata": {
        "id": "OnQhmXoedgGo"
      },
      "execution_count": null,
      "outputs": []
    }
  ]
}